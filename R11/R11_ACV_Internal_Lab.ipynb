{
  "nbformat": 4,
  "nbformat_minor": 0,
  "metadata": {
    "colab": {
      "name": "R11_ACV_Internal_Lab.ipynb",
      "provenance": [],
      "collapsed_sections": []
    },
    "kernelspec": {
      "name": "python3",
      "display_name": "Python 3"
    }
  },
  "cells": [
    {
      "cell_type": "markdown",
      "metadata": {
        "id": "I-P5m4iA_xe7",
        "colab_type": "text"
      },
      "source": [
        "# Bounding box detection - Racoon data\n",
        "\n",
        "\n",
        "## Data files\n",
        "- images_racoon.rar: contain images of racoons\n",
        "- train_labels.cv: contains coordinates for bounding box for every image"
      ]
    },
    {
      "cell_type": "markdown",
      "metadata": {
        "colab_type": "text",
        "id": "d8M5gzwKWGiU"
      },
      "source": [
        "### Import the necessary libraries"
      ]
    },
    {
      "cell_type": "code",
      "metadata": {
        "colab_type": "code",
        "id": "VOMKpZJcWGiV",
        "colab": {}
      },
      "source": [
        "import tensorflow as tf\n",
        "import csv\n",
        "import numpy as np\n",
        "import os\n",
        "import pandas as pd\n",
        "from PIL import Image\n",
        "from keras import Model\n",
        "from keras.applications.mobilenet import MobileNet,preprocess_input\n",
        "from keras.callbacks import ModelCheckpoint,ReduceLROnPlateau,EarlyStopping,Callback\n",
        "from keras.layers import Conv2D,Reshape\n",
        "from keras.utils import Sequence\n",
        "from keras.backend import epsilon"
      ],
      "execution_count": 1,
      "outputs": []
    },
    {
      "cell_type": "markdown",
      "metadata": {
        "id": "Z_INIZOi_tUW",
        "colab_type": "text"
      },
      "source": [
        "### Change directory"
      ]
    },
    {
      "cell_type": "code",
      "metadata": {
        "id": "9kMhM5rYk9et",
        "colab_type": "code",
        "colab": {
          "base_uri": "https://localhost:8080/",
          "height": 35
        },
        "outputId": "818bff40-50cc-470f-cb60-a19d8bdfa7a0"
      },
      "source": [
        "from google.colab import drive\n",
        "drive.mount('/content/drive')"
      ],
      "execution_count": 2,
      "outputs": [
        {
          "output_type": "stream",
          "text": [
            "Mounted at /content/drive\n"
          ],
          "name": "stdout"
        }
      ]
    },
    {
      "cell_type": "code",
      "metadata": {
        "id": "CDtdXjOWlRyE",
        "colab_type": "code",
        "colab": {
          "base_uri": "https://localhost:8080/",
          "height": 35
        },
        "outputId": "dc17b2a2-f5dc-4a6e-8771-edcbc3e44d7e"
      },
      "source": [
        "os.getcwd()"
      ],
      "execution_count": 3,
      "outputs": [
        {
          "output_type": "execute_result",
          "data": {
            "application/vnd.google.colaboratory.intrinsic+json": {
              "type": "string"
            },
            "text/plain": [
              "'/content'"
            ]
          },
          "metadata": {
            "tags": []
          },
          "execution_count": 3
        }
      ]
    },
    {
      "cell_type": "code",
      "metadata": {
        "id": "1flihEHXlzep",
        "colab_type": "code",
        "colab": {}
      },
      "source": [
        "os.chdir('/content/drive/My Drive/Colab Notebooks/R11/ACV_Lab')"
      ],
      "execution_count": 4,
      "outputs": []
    },
    {
      "cell_type": "markdown",
      "metadata": {
        "colab_type": "text",
        "id": "lwxBtvYRWGii"
      },
      "source": [
        "### Load the training data from train.csv file"
      ]
    },
    {
      "cell_type": "code",
      "metadata": {
        "colab_type": "code",
        "id": "wiTjjKtpWGij",
        "colab": {}
      },
      "source": [
        "train = pd.read_csv('train_labels.csv')"
      ],
      "execution_count": 5,
      "outputs": []
    },
    {
      "cell_type": "code",
      "metadata": {
        "id": "8h6vMc-cnWpY",
        "colab_type": "code",
        "colab": {
          "base_uri": "https://localhost:8080/",
          "height": 198
        },
        "outputId": "edd1b000-0050-4444-c4c1-975d7f724790"
      },
      "source": [
        "train.head(5)"
      ],
      "execution_count": 6,
      "outputs": [
        {
          "output_type": "execute_result",
          "data": {
            "text/html": [
              "<div>\n",
              "<style scoped>\n",
              "    .dataframe tbody tr th:only-of-type {\n",
              "        vertical-align: middle;\n",
              "    }\n",
              "\n",
              "    .dataframe tbody tr th {\n",
              "        vertical-align: top;\n",
              "    }\n",
              "\n",
              "    .dataframe thead th {\n",
              "        text-align: right;\n",
              "    }\n",
              "</style>\n",
              "<table border=\"1\" class=\"dataframe\">\n",
              "  <thead>\n",
              "    <tr style=\"text-align: right;\">\n",
              "      <th></th>\n",
              "      <th>filename</th>\n",
              "      <th>width</th>\n",
              "      <th>height</th>\n",
              "      <th>class</th>\n",
              "      <th>xmin</th>\n",
              "      <th>ymin</th>\n",
              "      <th>xmax</th>\n",
              "      <th>ymax</th>\n",
              "    </tr>\n",
              "  </thead>\n",
              "  <tbody>\n",
              "    <tr>\n",
              "      <th>0</th>\n",
              "      <td>raccoon-17.jpg</td>\n",
              "      <td>259</td>\n",
              "      <td>194</td>\n",
              "      <td>raccoon</td>\n",
              "      <td>95</td>\n",
              "      <td>60</td>\n",
              "      <td>167</td>\n",
              "      <td>118</td>\n",
              "    </tr>\n",
              "    <tr>\n",
              "      <th>1</th>\n",
              "      <td>raccoon-11.jpg</td>\n",
              "      <td>660</td>\n",
              "      <td>432</td>\n",
              "      <td>raccoon</td>\n",
              "      <td>3</td>\n",
              "      <td>1</td>\n",
              "      <td>461</td>\n",
              "      <td>431</td>\n",
              "    </tr>\n",
              "    <tr>\n",
              "      <th>2</th>\n",
              "      <td>raccoon-63.jpg</td>\n",
              "      <td>600</td>\n",
              "      <td>400</td>\n",
              "      <td>raccoon</td>\n",
              "      <td>74</td>\n",
              "      <td>107</td>\n",
              "      <td>280</td>\n",
              "      <td>290</td>\n",
              "    </tr>\n",
              "    <tr>\n",
              "      <th>3</th>\n",
              "      <td>raccoon-63.jpg</td>\n",
              "      <td>600</td>\n",
              "      <td>400</td>\n",
              "      <td>raccoon</td>\n",
              "      <td>227</td>\n",
              "      <td>93</td>\n",
              "      <td>403</td>\n",
              "      <td>298</td>\n",
              "    </tr>\n",
              "    <tr>\n",
              "      <th>4</th>\n",
              "      <td>raccoon-60.jpg</td>\n",
              "      <td>273</td>\n",
              "      <td>185</td>\n",
              "      <td>raccoon</td>\n",
              "      <td>58</td>\n",
              "      <td>33</td>\n",
              "      <td>197</td>\n",
              "      <td>127</td>\n",
              "    </tr>\n",
              "  </tbody>\n",
              "</table>\n",
              "</div>"
            ],
            "text/plain": [
              "         filename  width  height    class  xmin  ymin  xmax  ymax\n",
              "0  raccoon-17.jpg    259     194  raccoon    95    60   167   118\n",
              "1  raccoon-11.jpg    660     432  raccoon     3     1   461   431\n",
              "2  raccoon-63.jpg    600     400  raccoon    74   107   280   290\n",
              "3  raccoon-63.jpg    600     400  raccoon   227    93   403   298\n",
              "4  raccoon-60.jpg    273     185  raccoon    58    33   197   127"
            ]
          },
          "metadata": {
            "tags": []
          },
          "execution_count": 6
        }
      ]
    },
    {
      "cell_type": "markdown",
      "metadata": {
        "colab_type": "text",
        "id": "-F3CkYxUWGin"
      },
      "source": [
        "### Print the shape of the train dataset"
      ]
    },
    {
      "cell_type": "code",
      "metadata": {
        "colab_type": "code",
        "id": "uRz_MtnvWGip",
        "colab": {
          "base_uri": "https://localhost:8080/",
          "height": 35
        },
        "outputId": "263164f7-b0bb-4e4b-f351-98619bbaaba2"
      },
      "source": [
        "print(train.shape)"
      ],
      "execution_count": 7,
      "outputs": [
        {
          "output_type": "stream",
          "text": [
            "(173, 8)\n"
          ],
          "name": "stdout"
        }
      ]
    },
    {
      "cell_type": "markdown",
      "metadata": {
        "colab_type": "text",
        "id": "axf5m10eWGis"
      },
      "source": [
        "### Declare a variable IMAGE_SIZE = 128 as we will be using MobileNet which will be taking Input shape as 128 * 128 "
      ]
    },
    {
      "cell_type": "code",
      "metadata": {
        "colab_type": "code",
        "id": "7ayEk2c9WGit",
        "colab": {}
      },
      "source": [
        "IMAGE_SIZE = 128"
      ],
      "execution_count": 8,
      "outputs": []
    },
    {
      "cell_type": "markdown",
      "metadata": {
        "id": "nXa9ZaPwoI8N",
        "colab_type": "text"
      },
      "source": [
        "**Unzip the images**"
      ]
    },
    {
      "cell_type": "code",
      "metadata": {
        "id": "cNqvMdIMoL92",
        "colab_type": "code",
        "colab": {
          "base_uri": "https://localhost:8080/",
          "height": 1000
        },
        "outputId": "b02b4f3f-4e7e-4dd8-adc4-2ca9e4053365"
      },
      "source": [
        "!unrar x \"//content/drive/My Drive/Colab Notebooks/R11/ACV_Lab/images_racoon.rar\""
      ],
      "execution_count": 13,
      "outputs": [
        {
          "output_type": "stream",
          "text": [
            "\n",
            "UNRAR 5.50 freeware      Copyright (c) 1993-2017 Alexander Roshal\n",
            "\n",
            "\n",
            "Extracting from //content/drive/My Drive/Colab Notebooks/R11/ACV_Lab/images_racoon.rar\n",
            "\n",
            "\n",
            "Would you like to replace the existing file images/images/raccoon-1.jpg\n",
            " 58076 bytes, modified on 2019-04-15 23:51\n",
            "with a new one\n",
            " 58076 bytes, modified on 2019-04-15 23:51\n",
            "\n",
            "[Y]es, [N]o, [A]ll, n[E]ver, [R]ename, [Q]uit A\n",
            "\n",
            "Extracting  images/images/raccoon-1.jpg                                  \b\b\b\b  0%\b\b\b\b\b  OK \n",
            "Extracting  images/images/raccoon-10.jpg                                 \b\b\b\b  0%\b\b\b\b\b  OK \n",
            "Extracting  images/images/raccoon-100.jpg                                \b\b\b\b  0%\b\b\b\b\b  OK \n",
            "Extracting  images/images/raccoon-101.jpg                                \b\b\b\b  1%\b\b\b\b\b  OK \n",
            "Extracting  images/images/raccoon-102.jpg                                \b\b\b\b  1%\b\b\b\b\b  OK \n",
            "Extracting  images/images/raccoon-103.jpg                                \b\b\b\b  2%\b\b\b\b\b  OK \n",
            "Extracting  images/images/raccoon-104.jpg                                \b\b\b\b  2%\b\b\b\b\b  OK \n",
            "Extracting  images/images/raccoon-105.jpg                                \b\b\b\b  2%\b\b\b\b\b  OK \n",
            "Extracting  images/images/raccoon-106.jpg                                \b\b\b\b  2%\b\b\b\b\b  OK \n",
            "Extracting  images/images/raccoon-107.jpg                                \b\b\b\b  3%\b\b\b\b\b  OK \n",
            "Extracting  images/images/raccoon-108.jpg                                \b\b\b\b  3%\b\b\b\b\b  OK \n",
            "Extracting  images/images/raccoon-109.jpg                                \b\b\b\b  3%\b\b\b\b\b  OK \n",
            "Extracting  images/images/raccoon-11.jpg                                 \b\b\b\b  3%\b\b\b\b\b  OK \n",
            "Extracting  images/images/raccoon-110.jpg                                \b\b\b\b  3%\b\b\b\b\b  OK \n",
            "Extracting  images/images/raccoon-111.jpg                                \b\b\b\b  4%\b\b\b\b\b  OK \n",
            "Extracting  images/images/raccoon-112.jpg                                \b\b\b\b  5%\b\b\b\b\b  OK \n",
            "Extracting  images/images/raccoon-113.jpg                                \b\b\b\b  6%\b\b\b\b\b  OK \n",
            "Extracting  images/images/raccoon-114.jpg                                \b\b\b\b  6%\b\b\b\b\b  OK \n",
            "Extracting  images/images/raccoon-115.jpg                                \b\b\b\b  7%\b\b\b\b\b  OK \n",
            "Extracting  images/images/raccoon-116.jpg                                \b\b\b\b  7%\b\b\b\b\b  OK \n",
            "Extracting  images/images/raccoon-117.jpg                                \b\b\b\b  8%\b\b\b\b\b  OK \n",
            "Extracting  images/images/raccoon-118.jpg                                \b\b\b\b  8%\b\b\b\b\b  OK \n",
            "Extracting  images/images/raccoon-119.jpg                                \b\b\b\b  8%\b\b\b\b\b  OK \n",
            "Extracting  images/images/raccoon-12.jpg                                 \b\b\b\b  8%\b\b\b\b\b  OK \n",
            "Extracting  images/images/raccoon-120.jpg                                \b\b\b\b  9%\b\b\b\b\b  OK \n",
            "Extracting  images/images/raccoon-121.jpg                                \b\b\b\b  9%\b\b\b\b\b  OK \n",
            "Extracting  images/images/raccoon-122.jpg                                \b\b\b\b  9%\b\b\b\b\b  OK \n",
            "Extracting  images/images/raccoon-123.jpg                                \b\b\b\b  9%\b\b\b\b\b  OK \n",
            "Extracting  images/images/raccoon-124.jpg                                \b\b\b\b  9%\b\b\b\b\b  OK \n",
            "Extracting  images/images/raccoon-125.jpg                                \b\b\b\b  9%\b\b\b\b\b  OK \n",
            "Extracting  images/images/raccoon-126.jpg                                \b\b\b\b  9%\b\b\b\b\b  OK \n",
            "Extracting  images/images/raccoon-127.jpg                                \b\b\b\b  9%\b\b\b\b\b  OK \n",
            "Extracting  images/images/raccoon-128.jpg                                \b\b\b\b  9%\b\b\b\b\b  OK \n",
            "Extracting  images/images/raccoon-129.jpg                                \b\b\b\b 10%\b\b\b\b\b  OK \n",
            "Extracting  images/images/raccoon-13.jpg                                 \b\b\b\b 10%\b\b\b\b\b  OK \n",
            "Extracting  images/images/raccoon-130.jpg                                \b\b\b\b 10%\b\b\b\b\b  OK \n",
            "Extracting  images/images/raccoon-131.jpg                                \b\b\b\b 10%\b\b\b\b\b  OK \n",
            "Extracting  images/images/raccoon-132.jpg                                \b\b\b\b 10%\b\b\b\b\b  OK \n",
            "Extracting  images/images/raccoon-133.jpg                                \b\b\b\b 11%\b\b\b\b\b  OK \n",
            "Extracting  images/images/raccoon-134.jpg                                \b\b\b\b 11%\b\b\b\b\b  OK \n",
            "Extracting  images/images/raccoon-135.jpg                                \b\b\b\b 11%\b\b\b\b\b  OK \n",
            "Extracting  images/images/raccoon-136.jpg                                \b\b\b\b 11%\b\b\b\b\b  OK \n",
            "Extracting  images/images/raccoon-137.jpg                                \b\b\b\b 12%\b\b\b\b\b  OK \n",
            "Extracting  images/images/raccoon-138.jpg                                \b\b\b\b 12%\b\b\b\b\b  OK \n",
            "Extracting  images/images/raccoon-139.jpg                                \b\b\b\b 12%\b\b\b\b\b  OK \n",
            "Extracting  images/images/raccoon-14.jpg                                 \b\b\b\b 12%\b\b\b\b\b  OK \n",
            "Extracting  images/images/raccoon-140.jpg                                \b\b\b\b 12%\b\b\b\b\b  OK \n",
            "Extracting  images/images/raccoon-141.jpg                                \b\b\b\b 12%\b\b\b\b\b  OK \n",
            "Extracting  images/images/raccoon-142.jpg                                \b\b\b\b 13%\b\b\b\b\b  OK \n",
            "Extracting  images/images/raccoon-143.jpg                                \b\b\b\b 13%\b\b\b\b\b  OK \n",
            "Extracting  images/images/raccoon-144.jpg                                \b\b\b\b 13%\b\b\b\b\b  OK \n",
            "Extracting  images/images/raccoon-145.jpg                                \b\b\b\b 14%\b\b\b\b\b  OK \n",
            "Extracting  images/images/raccoon-146.jpg                                \b\b\b\b 14%\b\b\b\b\b  OK \n",
            "Extracting  images/images/raccoon-147.jpg                                \b\b\b\b 15%\b\b\b\b\b  OK \n",
            "Extracting  images/images/raccoon-148.jpg                                \b\b\b\b 15%\b\b\b\b\b  OK \n",
            "Extracting  images/images/raccoon-149.jpg                                \b\b\b\b 15%\b\b\b\b\b  OK \n",
            "Extracting  images/images/raccoon-15.jpg                                 \b\b\b\b 15%\b\b\b\b\b  OK \n",
            "Extracting  images/images/raccoon-150.jpg                                \b\b\b\b 15%\b\b\b\b\b  OK \n",
            "Extracting  images/images/raccoon-151.jpg                                \b\b\b\b 15%\b\b\b\b\b  OK \n",
            "Extracting  images/images/raccoon-152.jpg                                \b\b\b\b 15%\b\b\b\b\b  OK \n",
            "Extracting  images/images/raccoon-153.jpg                                \b\b\b\b 15%\b\b\b\b\b  OK \n",
            "Extracting  images/images/raccoon-154.jpg                                \b\b\b\b 16%\b\b\b\b\b  OK \n",
            "Extracting  images/images/raccoon-155.jpg                                \b\b\b\b 16%\b\b\b\b\b  OK \n",
            "Extracting  images/images/raccoon-156.jpg                                \b\b\b\b 16%\b\b\b\b\b  OK \n",
            "Extracting  images/images/raccoon-157.jpg                                \b\b\b\b 16%\b\b\b\b\b  OK \n",
            "Extracting  images/images/raccoon-158.jpg                                \b\b\b\b 16%\b\b\b\b\b  OK \n",
            "Extracting  images/images/raccoon-159.jpg                                \b\b\b\b 16%\b\b\b\b\b  OK \n",
            "Extracting  images/images/raccoon-16.jpg                                 \b\b\b\b 17%\b\b\b\b\b  OK \n",
            "Extracting  images/images/raccoon-160.jpg                                \b\b\b\b 17%\b\b\b\b\b  OK \n",
            "Extracting  images/images/raccoon-161.jpg                                \b\b\b\b 17%\b\b\b\b\b  OK \n",
            "Extracting  images/images/raccoon-162.jpg                                \b\b\b\b 17%\b\b\b\b\b  OK \n",
            "Extracting  images/images/raccoon-163.jpg                                \b\b\b\b 17%\b\b\b\b\b  OK \n",
            "Extracting  images/images/raccoon-164.jpg                                \b\b\b\b 17%\b\b\b\b\b  OK \n",
            "Extracting  images/images/raccoon-165.jpg                                \b\b\b\b 17%\b\b\b\b\b  OK \n",
            "Extracting  images/images/raccoon-166.jpg                                \b\b\b\b 17%\b\b\b\b\b  OK \n",
            "Extracting  images/images/raccoon-167.jpg                                \b\b\b\b 17%\b\b\b\b\b  OK \n",
            "Extracting  images/images/raccoon-168.jpg                                \b\b\b\b 17%\b\b\b\b\b  OK \n",
            "Extracting  images/images/raccoon-169.jpg                                \b\b\b\b 18%\b\b\b\b\b  OK \n",
            "Extracting  images/images/raccoon-17.jpg                                 \b\b\b\b 18%\b\b\b\b\b  OK \n",
            "Extracting  images/images/raccoon-170.jpg                                \b\b\b\b 18%\b\b\b\b\b  OK \n",
            "Extracting  images/images/raccoon-171.jpg                                \b\b\b\b 18%\b\b\b\b\b  OK \n",
            "Extracting  images/images/raccoon-172.jpg                                \b\b\b\b 18%\b\b\b\b\b  OK \n",
            "Extracting  images/images/raccoon-173.jpg                                \b\b\b\b 19%\b\b\b\b\b  OK \n",
            "Extracting  images/images/raccoon-174.jpg                                \b\b\b\b 19%\b\b\b\b\b  OK \n",
            "Extracting  images/images/raccoon-175.jpg                                \b\b\b\b 19%\b\b\b\b\b  OK \n",
            "Extracting  images/images/raccoon-176.jpg                                \b\b\b\b 20%\b\b\b\b\b  OK \n",
            "Extracting  images/images/raccoon-177.jpg                                \b\b\b\b 20%\b\b\b\b\b  OK \n",
            "Extracting  images/images/raccoon-178.jpg                                \b\b\b\b 20%\b\b\b\b\b  OK \n",
            "Extracting  images/images/raccoon-179.jpg                                \b\b\b\b 21%\b\b\b\b\b  OK \n",
            "Extracting  images/images/raccoon-18.jpg                                 \b\b\b\b 21%\b\b\b\b\b  OK \n",
            "Extracting  images/images/raccoon-180.jpg                                \b\b\b\b 21%\b\b\b\b\b  OK \n",
            "Extracting  images/images/raccoon-181.jpg                                \b\b\b\b 21%\b\b\b\b\b  OK \n",
            "Extracting  images/images/raccoon-182.jpg                                \b\b\b\b 22%\b\b\b\b\b  OK \n",
            "Extracting  images/images/raccoon-183.jpg                                \b\b\b\b 23%\b\b\b\b 24%\b\b\b\b\b  OK \n",
            "Extracting  images/images/raccoon-184.jpg                                \b\b\b\b 24%\b\b\b\b\b  OK \n",
            "Extracting  images/images/raccoon-185.jpg                                \b\b\b\b 24%\b\b\b\b\b  OK \n",
            "Extracting  images/images/raccoon-186.jpg                                \b\b\b\b 25%\b\b\b\b\b  OK \n",
            "Extracting  images/images/raccoon-187.jpg                                \b\b\b\b 25%\b\b\b\b\b  OK \n",
            "Extracting  images/images/raccoon-188.jpg                                \b\b\b\b 25%\b\b\b\b\b  OK \n",
            "Extracting  images/images/raccoon-189.jpg                                \b\b\b\b 25%\b\b\b\b\b  OK \n",
            "Extracting  images/images/raccoon-19.jpg                                 \b\b\b\b 25%\b\b\b\b\b  OK \n",
            "Extracting  images/images/raccoon-190.jpg                                \b\b\b\b 25%\b\b\b\b\b  OK \n",
            "Extracting  images/images/raccoon-191.jpg                                \b\b\b\b 26%\b\b\b\b\b  OK \n",
            "Extracting  images/images/raccoon-192.jpg                                \b\b\b\b 26%\b\b\b\b\b  OK \n",
            "Extracting  images/images/raccoon-193.jpg                                \b\b\b\b 26%\b\b\b\b\b  OK \n",
            "Extracting  images/images/raccoon-194.jpg                                \b\b\b\b 27%\b\b\b\b\b  OK \n",
            "Extracting  images/images/raccoon-195.jpg                                \b\b\b\b 27%\b\b\b\b\b  OK \n",
            "Extracting  images/images/raccoon-196.jpg                                \b\b\b\b 27%\b\b\b\b\b  OK \n",
            "Extracting  images/images/raccoon-197.jpg                                \b\b\b\b 28%\b\b\b\b\b  OK \n",
            "Extracting  images/images/raccoon-198.jpg                                \b\b\b\b 28%\b\b\b\b\b  OK \n",
            "Extracting  images/images/raccoon-199.jpg                                \b\b\b\b 28%\b\b\b\b\b  OK \n",
            "Extracting  images/images/raccoon-2.jpg                                  \b\b\b\b 29%\b\b\b\b\b  OK \n",
            "Extracting  images/images/raccoon-20.jpg                                 \b\b\b\b 29%\b\b\b\b\b  OK \n",
            "Extracting  images/images/raccoon-200.jpg                                \b\b\b\b 29%\b\b\b\b\b  OK \n",
            "Extracting  images/images/raccoon-21.jpg                                 \b\b\b\b 29%\b\b\b\b\b  OK \n",
            "Extracting  images/images/raccoon-22.jpg                                 \b\b\b\b 30%\b\b\b\b\b  OK \n",
            "Extracting  images/images/raccoon-23.jpg                                 \b\b\b\b 30%\b\b\b\b\b  OK \n",
            "Extracting  images/images/raccoon-24.jpg                                 \b\b\b\b 30%\b\b\b\b\b  OK \n",
            "Extracting  images/images/raccoon-25.jpg                                 \b\b\b\b 31%\b\b\b\b\b  OK \n",
            "Extracting  images/images/raccoon-26.jpg                                 \b\b\b\b 31%\b\b\b\b\b  OK \n",
            "Extracting  images/images/raccoon-27.jpg                                 \b\b\b\b 31%\b\b\b\b\b  OK \n",
            "Extracting  images/images/raccoon-28.jpg                                 \b\b\b\b 32%\b\b\b\b\b  OK \n",
            "Extracting  images/images/raccoon-29.jpg                                 \b\b\b\b 32%\b\b\b\b\b  OK \n",
            "Extracting  images/images/raccoon-3.jpg                                  \b\b\b\b 32%\b\b\b\b\b  OK \n",
            "Extracting  images/images/raccoon-30.jpg                                 \b\b\b\b 32%\b\b\b\b\b  OK \n",
            "Extracting  images/images/raccoon-31.jpg                                 \b\b\b\b 32%\b\b\b\b\b  OK \n",
            "Extracting  images/images/raccoon-32.jpg                                 \b\b\b\b 32%\b\b\b\b\b  OK \n",
            "Extracting  images/images/raccoon-33.jpg                                 \b\b\b\b 33%\b\b\b\b\b  OK \n",
            "Extracting  images/images/raccoon-34.jpg                                 \b\b\b\b 33%\b\b\b\b\b  OK \n",
            "Extracting  images/images/raccoon-35.jpg                                 \b\b\b\b 33%\b\b\b\b\b  OK \n",
            "Extracting  images/images/raccoon-36.jpg                                 \b\b\b\b 34%\b\b\b\b\b  OK \n",
            "Extracting  images/images/raccoon-37.jpg                                 \b\b\b\b 34%\b\b\b\b\b  OK \n",
            "Extracting  images/images/raccoon-38.jpg                                 \b\b\b\b 34%\b\b\b\b\b  OK \n",
            "Extracting  images/images/raccoon-39.jpg                                 \b\b\b\b 34%\b\b\b\b\b  OK \n",
            "Extracting  images/images/raccoon-4.jpg                                  \b\b\b\b 34%\b\b\b\b\b  OK \n",
            "Extracting  images/images/raccoon-40.jpg                                 \b\b\b\b 34%\b\b\b\b\b  OK \n",
            "Extracting  images/images/raccoon-41.jpg                                 \b\b\b\b 35%\b\b\b\b\b  OK \n",
            "Extracting  images/images/raccoon-42.jpg                                 \b\b\b\b 35%\b\b\b\b\b  OK \n",
            "Extracting  images/images/raccoon-43.jpg                                 \b\b\b\b 35%\b\b\b\b\b  OK \n",
            "Extracting  images/images/raccoon-44.jpg                                 \b\b\b\b 35%\b\b\b\b\b  OK \n",
            "Extracting  images/images/raccoon-45.jpg                                 \b\b\b\b 35%\b\b\b\b\b  OK \n",
            "Extracting  images/images/raccoon-46.jpg                                 \b\b\b\b 36%\b\b\b\b\b  OK \n",
            "Extracting  images/images/raccoon-47.jpg                                 \b\b\b\b 36%\b\b\b\b\b  OK \n",
            "Extracting  images/images/raccoon-48.jpg                                 \b\b\b\b 36%\b\b\b\b\b  OK \n",
            "Extracting  images/images/raccoon-49.jpg                                 \b\b\b\b 36%\b\b\b\b\b  OK \n",
            "Extracting  images/images/raccoon-5.jpg                                  \b\b\b\b 36%\b\b\b\b\b  OK \n",
            "Extracting  images/images/raccoon-50.jpg                                 \b\b\b\b 36%\b\b\b\b\b  OK \n",
            "Extracting  images/images/raccoon-51.jpg                                 \b\b\b\b 37%\b\b\b\b\b  OK \n",
            "Extracting  images/images/raccoon-52.jpg                                 \b\b\b\b 37%\b\b\b\b\b  OK \n",
            "Extracting  images/images/raccoon-53.jpg                                 \b\b\b\b 37%\b\b\b\b\b  OK \n",
            "Extracting  images/images/raccoon-54.jpg                                 \b\b\b\b 38%\b\b\b\b\b  OK \n",
            "Extracting  images/images/raccoon-55.jpg                                 \b\b\b\b 38%\b\b\b\b\b  OK \n",
            "Extracting  images/images/raccoon-56.jpg                                 \b\b\b\b 38%\b\b\b\b\b  OK \n",
            "Extracting  images/images/raccoon-57.jpg                                 \b\b\b\b 39%\b\b\b\b\b  OK \n",
            "Extracting  images/images/raccoon-58.jpg                                 \b\b\b\b 39%\b\b\b\b\b  OK \n",
            "Extracting  images/images/raccoon-59.jpg                                 \b\b\b\b 39%\b\b\b\b\b  OK \n",
            "Extracting  images/images/raccoon-6.jpg                                  \b\b\b\b 39%\b\b\b\b\b  OK \n",
            "Extracting  images/images/raccoon-60.jpg                                 \b\b\b\b 39%\b\b\b\b\b  OK \n",
            "Extracting  images/images/raccoon-61.jpg                                 \b\b\b\b 39%\b\b\b\b\b  OK \n",
            "Extracting  images/images/raccoon-62.jpg                                 \b\b\b\b 40%\b\b\b\b\b  OK \n",
            "Extracting  images/images/raccoon-63.jpg                                 \b\b\b\b 40%\b\b\b\b\b  OK \n",
            "Extracting  images/images/raccoon-64.jpg                                 \b\b\b\b 40%\b\b\b\b\b  OK \n",
            "Extracting  images/images/raccoon-65.jpg                                 \b\b\b\b 40%\b\b\b\b\b  OK \n",
            "Extracting  images/images/raccoon-66.jpg                                 \b\b\b\b 41%\b\b\b\b\b  OK \n",
            "Extracting  images/images/raccoon-67.jpg                                 \b\b\b\b 41%\b\b\b\b\b  OK \n",
            "Extracting  images/images/raccoon-68.jpg                                 \b\b\b\b 41%\b\b\b\b\b  OK \n",
            "Extracting  images/images/raccoon-69.jpg                                 \b\b\b\b 41%\b\b\b\b\b  OK \n",
            "Extracting  images/images/raccoon-7.jpg                                  \b\b\b\b 41%\b\b\b\b\b  OK \n",
            "Extracting  images/images/raccoon-70.jpg                                 \b\b\b\b 42%\b\b\b\b\b  OK \n",
            "Extracting  images/images/raccoon-71.jpg                                 \b\b\b\b 42%\b\b\b\b\b  OK \n",
            "Extracting  images/images/raccoon-72.jpg                                 \b\b\b\b 42%\b\b\b\b\b  OK \n",
            "Extracting  images/images/raccoon-73.jpg                                 \b\b\b\b 42%\b\b\b\b\b  OK \n",
            "Extracting  images/images/raccoon-74.jpg                                 \b\b\b\b 43%\b\b\b\b\b  OK \n",
            "Extracting  images/images/raccoon-75.jpg                                 \b\b\b\b 44%\b\b\b\b\b  OK \n",
            "Extracting  images/images/raccoon-76.jpg                                 \b\b\b\b 44%\b\b\b\b\b  OK \n",
            "Extracting  images/images/raccoon-77.jpg                                 \b\b\b\b 44%\b\b\b\b\b  OK \n",
            "Extracting  images/images/raccoon-78.jpg                                 \b\b\b\b 44%\b\b\b\b\b  OK \n",
            "Extracting  images/images/raccoon-79.jpg                                 \b\b\b\b 44%\b\b\b\b\b  OK \n",
            "Extracting  images/images/raccoon-8.jpg                                  \b\b\b\b 44%\b\b\b\b\b  OK \n",
            "Extracting  images/images/raccoon-80.jpg                                 \b\b\b\b 44%\b\b\b\b\b  OK \n",
            "Extracting  images/images/raccoon-81.jpg                                 \b\b\b\b 45%\b\b\b\b\b  OK \n",
            "Extracting  images/images/raccoon-82.jpg                                 \b\b\b\b 45%\b\b\b\b\b  OK \n",
            "Extracting  images/images/raccoon-83.jpg                                 \b\b\b\b 45%\b\b\b\b\b  OK \n",
            "Extracting  images/images/raccoon-84.jpg                                 \b\b\b\b 45%\b\b\b\b\b  OK \n",
            "Extracting  images/images/raccoon-85.jpg                                 \b\b\b\b 46%\b\b\b\b\b  OK \n",
            "Extracting  images/images/raccoon-86.jpg                                 \b\b\b\b 46%\b\b\b\b\b  OK \n",
            "Extracting  images/images/raccoon-87.jpg                                 \b\b\b\b 46%\b\b\b\b\b  OK \n",
            "Extracting  images/images/raccoon-88.jpg                                 \b\b\b\b 47%\b\b\b\b\b  OK \n",
            "Extracting  images/images/raccoon-89.jpg                                 \b\b\b\b 47%\b\b\b\b\b  OK \n",
            "Extracting  images/images/raccoon-9.jpg                                  \b\b\b\b 47%\b\b\b\b\b  OK \n",
            "Extracting  images/images/raccoon-90.jpg                                 \b\b\b\b 47%\b\b\b\b\b  OK \n",
            "Extracting  images/images/raccoon-91.jpg                                 \b\b\b\b 48%\b\b\b\b\b  OK \n",
            "Extracting  images/images/raccoon-92.jpg                                 \b\b\b\b 48%\b\b\b\b\b  OK \n",
            "Extracting  images/images/raccoon-93.jpg                                 \b\b\b\b 48%\b\b\b\b\b  OK \n",
            "Extracting  images/images/raccoon-94.jpg                                 \b\b\b\b 49%\b\b\b\b\b  OK \n",
            "Extracting  images/images/raccoon-95.jpg                                 \b\b\b\b 49%\b\b\b\b\b  OK \n",
            "Extracting  images/images/raccoon-96.jpg                                 \b\b\b\b 49%\b\b\b\b\b  OK \n",
            "Extracting  images/images/raccoon-97.jpg                                 \b\b\b\b 49%\b\b\b\b\b  OK \n",
            "Extracting  images/images/raccoon-98.jpg                                 \b\b\b\b 49%\b\b\b\b\b  OK \n",
            "Extracting  images/images/raccoon-99.jpg                                 \b\b\b\b 49%\b\b\b\b\b  OK \n",
            "Extracting  images/raccoon-1.jpg                                         \b\b\b\b 50%\b\b\b\b\b  OK \n",
            "Extracting  images/raccoon-10.jpg                                        \b\b\b\b 50%\b\b\b\b\b  OK \n",
            "Extracting  images/raccoon-100.jpg                                       \b\b\b\b 50%\b\b\b\b\b  OK \n",
            "Extracting  images/raccoon-101.jpg                                       \b\b\b\b 51%\b\b\b\b\b  OK \n",
            "Extracting  images/raccoon-102.jpg                                       \b\b\b\b 51%\b\b\b\b\b  OK \n",
            "Extracting  images/raccoon-103.jpg                                       \b\b\b\b 52%\b\b\b\b\b  OK \n",
            "Extracting  images/raccoon-104.jpg                                       \b\b\b\b 52%\b\b\b\b\b  OK \n",
            "Extracting  images/raccoon-105.jpg                                       \b\b\b\b 52%\b\b\b\b\b  OK \n",
            "Extracting  images/raccoon-106.jpg                                       \b\b\b\b 52%\b\b\b\b\b  OK \n",
            "Extracting  images/raccoon-107.jpg                                       \b\b\b\b 53%\b\b\b\b\b  OK \n",
            "Extracting  images/raccoon-108.jpg                                       \b\b\b\b 53%\b\b\b\b\b  OK \n",
            "Extracting  images/raccoon-109.jpg                                       \b\b\b\b 53%\b\b\b\b\b  OK \n",
            "Extracting  images/raccoon-11.jpg                                        \b\b\b\b 53%\b\b\b\b\b  OK \n",
            "Extracting  images/raccoon-110.jpg                                       \b\b\b\b 53%\b\b\b\b\b  OK \n",
            "Extracting  images/raccoon-111.jpg                                       \b\b\b\b 54%\b\b\b\b\b  OK \n",
            "Extracting  images/raccoon-112.jpg                                       \b\b\b\b 55%\b\b\b\b\b  OK \n",
            "Extracting  images/raccoon-113.jpg                                       \b\b\b\b 55%\b\b\b\b\b  OK \n",
            "Extracting  images/raccoon-114.jpg                                       \b\b\b\b 56%\b\b\b\b\b  OK \n",
            "Extracting  images/raccoon-115.jpg                                       \b\b\b\b 56%\b\b\b\b\b  OK \n",
            "Extracting  images/raccoon-116.jpg                                       \b\b\b\b 57%\b\b\b\b\b  OK \n",
            "Extracting  images/raccoon-117.jpg                                       \b\b\b\b 58%\b\b\b\b\b  OK \n",
            "Extracting  images/raccoon-118.jpg                                       \b\b\b\b 58%\b\b\b\b\b  OK \n",
            "Extracting  images/raccoon-119.jpg                                       \b\b\b\b 58%\b\b\b\b\b  OK \n",
            "Extracting  images/raccoon-12.jpg                                        \b\b\b\b 58%\b\b\b\b\b  OK \n",
            "Extracting  images/raccoon-120.jpg                                       \b\b\b\b 59%\b\b\b\b\b  OK \n",
            "Extracting  images/raccoon-121.jpg                                       \b\b\b\b 59%\b\b\b\b\b  OK \n",
            "Extracting  images/raccoon-122.jpg                                       \b\b\b\b 59%\b\b\b\b\b  OK \n",
            "Extracting  images/raccoon-123.jpg                                       \b\b\b\b 59%\b\b\b\b\b  OK \n",
            "Extracting  images/raccoon-124.jpg                                       \b\b\b\b 59%\b\b\b\b\b  OK \n",
            "Extracting  images/raccoon-125.jpg                                       \b\b\b\b 59%\b\b\b\b\b  OK \n",
            "Extracting  images/raccoon-126.jpg                                       \b\b\b\b 59%\b\b\b\b\b  OK \n",
            "Extracting  images/raccoon-127.jpg                                       \b\b\b\b 59%\b\b\b\b\b  OK \n",
            "Extracting  images/raccoon-128.jpg                                       \b\b\b\b 59%\b\b\b\b\b  OK \n",
            "Extracting  images/raccoon-129.jpg                                       \b\b\b\b 60%\b\b\b\b\b  OK \n",
            "Extracting  images/raccoon-13.jpg                                        \b\b\b\b 60%\b\b\b\b\b  OK \n",
            "Extracting  images/raccoon-130.jpg                                       \b\b\b\b 60%\b\b\b\b\b  OK \n",
            "Extracting  images/raccoon-131.jpg                                       \b\b\b\b 60%\b\b\b\b\b  OK \n",
            "Extracting  images/raccoon-132.jpg                                       \b\b\b\b 60%\b\b\b\b\b  OK \n",
            "Extracting  images/raccoon-133.jpg                                       \b\b\b\b 61%\b\b\b\b\b  OK \n",
            "Extracting  images/raccoon-134.jpg                                       \b\b\b\b 61%\b\b\b\b\b  OK \n",
            "Extracting  images/raccoon-135.jpg                                       \b\b\b\b 61%\b\b\b\b\b  OK \n",
            "Extracting  images/raccoon-136.jpg                                       \b\b\b\b 61%\b\b\b\b\b  OK \n",
            "Extracting  images/raccoon-137.jpg                                       \b\b\b\b 62%\b\b\b\b\b  OK \n",
            "Extracting  images/raccoon-138.jpg                                       \b\b\b\b 62%\b\b\b\b\b  OK \n",
            "Extracting  images/raccoon-139.jpg                                       \b\b\b\b 62%\b\b\b\b\b  OK \n",
            "Extracting  images/raccoon-14.jpg                                        \b\b\b\b 62%\b\b\b\b\b  OK \n",
            "Extracting  images/raccoon-140.jpg                                       \b\b\b\b 62%\b\b\b\b\b  OK \n",
            "Extracting  images/raccoon-141.jpg                                       \b\b\b\b 62%\b\b\b\b\b  OK \n",
            "Extracting  images/raccoon-142.jpg                                       \b\b\b\b 63%\b\b\b\b\b  OK \n",
            "Extracting  images/raccoon-143.jpg                                       \b\b\b\b 63%\b\b\b\b\b  OK \n",
            "Extracting  images/raccoon-144.jpg                                       \b\b\b\b 63%\b\b\b\b\b  OK \n",
            "Extracting  images/raccoon-145.jpg                                       \b\b\b\b 64%\b\b\b\b\b  OK \n",
            "Extracting  images/raccoon-146.jpg                                       \b\b\b\b 64%\b\b\b\b\b  OK \n",
            "Extracting  images/raccoon-147.jpg                                       \b\b\b\b 64%\b\b\b\b\b  OK \n",
            "Extracting  images/raccoon-148.jpg                                       \b\b\b\b 65%\b\b\b\b\b  OK \n",
            "Extracting  images/raccoon-149.jpg                                       \b\b\b\b 65%\b\b\b\b\b  OK \n",
            "Extracting  images/raccoon-15.jpg                                        \b\b\b\b 65%\b\b\b\b\b  OK \n",
            "Extracting  images/raccoon-150.jpg                                       \b\b\b\b 65%\b\b\b\b\b  OK \n",
            "Extracting  images/raccoon-151.jpg                                       \b\b\b\b 65%\b\b\b\b\b  OK \n",
            "Extracting  images/raccoon-152.jpg                                       \b\b\b\b 65%\b\b\b\b\b  OK \n",
            "Extracting  images/raccoon-153.jpg                                       \b\b\b\b 65%\b\b\b\b\b  OK \n",
            "Extracting  images/raccoon-154.jpg                                       \b\b\b\b 66%\b\b\b\b\b  OK \n",
            "Extracting  images/raccoon-155.jpg                                       \b\b\b\b 66%\b\b\b\b\b  OK \n",
            "Extracting  images/raccoon-156.jpg                                       \b\b\b\b 66%\b\b\b\b\b  OK \n",
            "Extracting  images/raccoon-157.jpg                                       \b\b\b\b 66%\b\b\b\b\b  OK \n",
            "Extracting  images/raccoon-158.jpg                                       \b\b\b\b 66%\b\b\b\b\b  OK \n",
            "Extracting  images/raccoon-159.jpg                                       \b\b\b\b 66%\b\b\b\b\b  OK \n",
            "Extracting  images/raccoon-16.jpg                                        \b\b\b\b 66%\b\b\b\b\b  OK \n",
            "Extracting  images/raccoon-160.jpg                                       \b\b\b\b 67%\b\b\b\b\b  OK \n",
            "Extracting  images/raccoon-161.jpg                                       \b\b\b\b 67%\b\b\b\b\b  OK \n",
            "Extracting  images/raccoon-162.jpg                                       \b\b\b\b 67%\b\b\b\b\b  OK \n",
            "Extracting  images/raccoon-163.jpg                                       \b\b\b\b 67%\b\b\b\b\b  OK \n",
            "Extracting  images/raccoon-164.jpg                                       \b\b\b\b 67%\b\b\b\b\b  OK \n",
            "Extracting  images/raccoon-165.jpg                                       \b\b\b\b 67%\b\b\b\b\b  OK \n",
            "Extracting  images/raccoon-166.jpg                                       \b\b\b\b 67%\b\b\b\b\b  OK \n",
            "Extracting  images/raccoon-167.jpg                                       \b\b\b\b 67%\b\b\b\b\b  OK \n",
            "Extracting  images/raccoon-168.jpg                                       \b\b\b\b 67%\b\b\b\b\b  OK \n",
            "Extracting  images/raccoon-169.jpg                                       \b\b\b\b 68%\b\b\b\b\b  OK \n",
            "Extracting  images/raccoon-17.jpg                                        \b\b\b\b 68%\b\b\b\b\b  OK \n",
            "Extracting  images/raccoon-170.jpg                                       \b\b\b\b 68%\b\b\b\b\b  OK \n",
            "Extracting  images/raccoon-171.jpg                                       \b\b\b\b 68%\b\b\b\b\b  OK \n",
            "Extracting  images/raccoon-172.jpg                                       \b\b\b\b 68%\b\b\b\b\b  OK \n",
            "Extracting  images/raccoon-173.jpg                                       \b\b\b\b 68%\b\b\b\b\b  OK \n",
            "Extracting  images/raccoon-174.jpg                                       \b\b\b\b 69%\b\b\b\b\b  OK \n",
            "Extracting  images/raccoon-175.jpg                                       \b\b\b\b 69%\b\b\b\b\b  OK \n",
            "Extracting  images/raccoon-176.jpg                                       \b\b\b\b 70%\b\b\b\b\b  OK \n",
            "Extracting  images/raccoon-177.jpg                                       \b\b\b\b 70%\b\b\b\b\b  OK \n",
            "Extracting  images/raccoon-178.jpg                                       \b\b\b\b 70%\b\b\b\b\b  OK \n",
            "Extracting  images/raccoon-179.jpg                                       \b\b\b\b 71%\b\b\b\b\b  OK \n",
            "Extracting  images/raccoon-18.jpg                                        \b\b\b\b 71%\b\b\b\b\b  OK \n",
            "Extracting  images/raccoon-180.jpg                                       \b\b\b\b 71%\b\b\b\b\b  OK \n",
            "Extracting  images/raccoon-181.jpg                                       \b\b\b\b 71%\b\b\b\b\b  OK \n",
            "Extracting  images/raccoon-182.jpg                                       \b\b\b\b 72%\b\b\b\b\b  OK \n",
            "Extracting  images/raccoon-183.jpg                                       \b\b\b\b 73%\b\b\b\b\b  OK \n",
            "Extracting  images/raccoon-184.jpg                                       \b\b\b\b 74%\b\b\b\b\b  OK \n",
            "Extracting  images/raccoon-185.jpg                                       \b\b\b\b 74%\b\b\b\b\b  OK \n",
            "Extracting  images/raccoon-186.jpg                                       \b\b\b\b 75%\b\b\b\b\b  OK \n",
            "Extracting  images/raccoon-187.jpg                                       \b\b\b\b 75%\b\b\b\b\b  OK \n",
            "Extracting  images/raccoon-188.jpg                                       \b\b\b\b 75%\b\b\b\b\b  OK \n",
            "Extracting  images/raccoon-189.jpg                                       \b\b\b\b 75%\b\b\b\b\b  OK \n",
            "Extracting  images/raccoon-19.jpg                                        \b\b\b\b 75%\b\b\b\b\b  OK \n",
            "Extracting  images/raccoon-190.jpg                                       \b\b\b\b 75%\b\b\b\b\b  OK \n",
            "Extracting  images/raccoon-191.jpg                                       \b\b\b\b 76%\b\b\b\b\b  OK \n",
            "Extracting  images/raccoon-192.jpg                                       \b\b\b\b 76%\b\b\b\b\b  OK \n",
            "Extracting  images/raccoon-193.jpg                                       \b\b\b\b 76%\b\b\b\b\b  OK \n",
            "Extracting  images/raccoon-194.jpg                                       \b\b\b\b 77%\b\b\b\b\b  OK \n",
            "Extracting  images/raccoon-195.jpg                                       \b\b\b\b 77%\b\b\b\b\b  OK \n",
            "Extracting  images/raccoon-196.jpg                                       \b\b\b\b 77%\b\b\b\b\b  OK \n",
            "Extracting  images/raccoon-197.jpg                                       \b\b\b\b 78%\b\b\b\b\b  OK \n",
            "Extracting  images/raccoon-198.jpg                                       \b\b\b\b 78%\b\b\b\b\b  OK \n",
            "Extracting  images/raccoon-199.jpg                                       \b\b\b\b 78%\b\b\b\b\b  OK \n",
            "Extracting  images/raccoon-2.jpg                                         \b\b\b\b 78%\b\b\b\b\b  OK \n",
            "Extracting  images/raccoon-20.jpg                                        \b\b\b\b 79%\b\b\b\b\b  OK \n",
            "Extracting  images/raccoon-200.jpg                                       \b\b\b\b 79%\b\b\b\b\b  OK \n",
            "Extracting  images/raccoon-21.jpg                                        \b\b\b\b 79%\b\b\b\b\b  OK \n",
            "Extracting  images/raccoon-22.jpg                                        \b\b\b\b 80%\b\b\b\b\b  OK \n",
            "Extracting  images/raccoon-23.jpg                                        \b\b\b\b 80%\b\b\b\b\b  OK \n",
            "Extracting  images/raccoon-24.jpg                                        \b\b\b\b 80%\b\b\b\b\b  OK \n",
            "Extracting  images/raccoon-25.jpg                                        \b\b\b\b 81%\b\b\b\b\b  OK \n",
            "Extracting  images/raccoon-26.jpg                                        \b\b\b\b 81%\b\b\b\b\b  OK \n",
            "Extracting  images/raccoon-27.jpg                                        \b\b\b\b 81%\b\b\b\b\b  OK \n",
            "Extracting  images/raccoon-28.jpg                                        \b\b\b\b 82%\b\b\b\b\b  OK \n",
            "Extracting  images/raccoon-29.jpg                                        \b\b\b\b 82%\b\b\b\b\b  OK \n",
            "Extracting  images/raccoon-3.jpg                                         \b\b\b\b 82%\b\b\b\b\b  OK \n",
            "Extracting  images/raccoon-30.jpg                                        \b\b\b\b 82%\b\b\b\b\b  OK \n",
            "Extracting  images/raccoon-31.jpg                                        \b\b\b\b 82%\b\b\b\b\b  OK \n",
            "Extracting  images/raccoon-32.jpg                                        \b\b\b\b 82%\b\b\b\b\b  OK \n",
            "Extracting  images/raccoon-33.jpg                                        \b\b\b\b 83%\b\b\b\b\b  OK \n",
            "Extracting  images/raccoon-34.jpg                                        \b\b\b\b 83%\b\b\b\b\b  OK \n",
            "Extracting  images/raccoon-35.jpg                                        \b\b\b\b 83%\b\b\b\b\b  OK \n",
            "Extracting  images/raccoon-36.jpg                                        \b\b\b\b 84%\b\b\b\b\b  OK \n",
            "Extracting  images/raccoon-37.jpg                                        \b\b\b\b 84%\b\b\b\b\b  OK \n",
            "Extracting  images/raccoon-38.jpg                                        \b\b\b\b 84%\b\b\b\b\b  OK \n",
            "Extracting  images/raccoon-39.jpg                                        \b\b\b\b 84%\b\b\b\b\b  OK \n",
            "Extracting  images/raccoon-4.jpg                                         \b\b\b\b 84%\b\b\b\b\b  OK \n",
            "Extracting  images/raccoon-40.jpg                                        \b\b\b\b 84%\b\b\b\b\b  OK \n",
            "Extracting  images/raccoon-41.jpg                                        \b\b\b\b 85%\b\b\b\b\b  OK \n",
            "Extracting  images/raccoon-42.jpg                                        \b\b\b\b 85%\b\b\b\b\b  OK \n",
            "Extracting  images/raccoon-43.jpg                                        \b\b\b\b 85%\b\b\b\b\b  OK \n",
            "Extracting  images/raccoon-44.jpg                                        \b\b\b\b 85%\b\b\b\b\b  OK \n",
            "Extracting  images/raccoon-45.jpg                                        \b\b\b\b 85%\b\b\b\b\b  OK \n",
            "Extracting  images/raccoon-46.jpg                                        \b\b\b\b 86%\b\b\b\b\b  OK \n",
            "Extracting  images/raccoon-47.jpg                                        \b\b\b\b 86%\b\b\b\b\b  OK \n",
            "Extracting  images/raccoon-48.jpg                                        \b\b\b\b 86%\b\b\b\b\b  OK \n",
            "Extracting  images/raccoon-49.jpg                                        \b\b\b\b 86%\b\b\b\b\b  OK \n",
            "Extracting  images/raccoon-5.jpg                                         \b\b\b\b 86%\b\b\b\b\b  OK \n",
            "Extracting  images/raccoon-50.jpg                                        \b\b\b\b 86%\b\b\b\b\b  OK \n",
            "Extracting  images/raccoon-51.jpg                                        \b\b\b\b 87%\b\b\b\b\b  OK \n",
            "Extracting  images/raccoon-52.jpg                                        \b\b\b\b 87%\b\b\b\b\b  OK \n",
            "Extracting  images/raccoon-53.jpg                                        \b\b\b\b 87%\b\b\b\b\b  OK \n",
            "Extracting  images/raccoon-54.jpg                                        \b\b\b\b 88%\b\b\b\b\b  OK \n",
            "Extracting  images/raccoon-55.jpg                                        \b\b\b\b 88%\b\b\b\b\b  OK \n",
            "Extracting  images/raccoon-56.jpg                                        \b\b\b\b 88%\b\b\b\b\b  OK \n",
            "Extracting  images/raccoon-57.jpg                                        \b\b\b\b 88%\b\b\b\b\b  OK \n",
            "Extracting  images/raccoon-58.jpg                                        \b\b\b\b 89%\b\b\b\b\b  OK \n",
            "Extracting  images/raccoon-59.jpg                                        \b\b\b\b 89%\b\b\b\b\b  OK \n",
            "Extracting  images/raccoon-6.jpg                                         \b\b\b\b 89%\b\b\b\b\b  OK \n",
            "Extracting  images/raccoon-60.jpg                                        \b\b\b\b 89%\b\b\b\b\b  OK \n",
            "Extracting  images/raccoon-61.jpg                                        \b\b\b\b 89%\b\b\b\b\b  OK \n",
            "Extracting  images/raccoon-62.jpg                                        \b\b\b\b 89%\b\b\b\b\b  OK \n",
            "Extracting  images/raccoon-63.jpg                                        \b\b\b\b 90%\b\b\b\b\b  OK \n",
            "Extracting  images/raccoon-64.jpg                                        \b\b\b\b 90%\b\b\b\b\b  OK \n",
            "Extracting  images/raccoon-65.jpg                                        \b\b\b\b 90%\b\b\b\b\b  OK \n",
            "Extracting  images/raccoon-66.jpg                                        \b\b\b\b 90%\b\b\b\b\b  OK \n",
            "Extracting  images/raccoon-67.jpg                                        \b\b\b\b 91%\b\b\b\b\b  OK \n",
            "Extracting  images/raccoon-68.jpg                                        \b\b\b\b 91%\b\b\b\b\b  OK \n",
            "Extracting  images/raccoon-69.jpg                                        \b\b\b\b 91%\b\b\b\b\b  OK \n",
            "Extracting  images/raccoon-7.jpg                                         \b\b\b\b 91%\b\b\b\b\b  OK \n",
            "Extracting  images/raccoon-70.jpg                                        \b\b\b\b 92%\b\b\b\b\b  OK \n",
            "Extracting  images/raccoon-71.jpg                                        \b\b\b\b 92%\b\b\b\b\b  OK \n",
            "Extracting  images/raccoon-72.jpg                                        \b\b\b\b 92%\b\b\b\b\b  OK \n",
            "Extracting  images/raccoon-73.jpg                                        \b\b\b\b 92%\b\b\b\b\b  OK \n",
            "Extracting  images/raccoon-74.jpg                                        \b\b\b\b 93%\b\b\b\b\b  OK \n",
            "Extracting  images/raccoon-75.jpg                                        \b\b\b\b 94%\b\b\b\b\b  OK \n",
            "Extracting  images/raccoon-76.jpg                                        \b\b\b\b 94%\b\b\b\b\b  OK \n",
            "Extracting  images/raccoon-77.jpg                                        \b\b\b\b 94%\b\b\b\b\b  OK \n",
            "Extracting  images/raccoon-78.jpg                                        \b\b\b\b 94%\b\b\b\b\b  OK \n",
            "Extracting  images/raccoon-79.jpg                                        \b\b\b\b 94%\b\b\b\b\b  OK \n",
            "Extracting  images/raccoon-8.jpg                                         \b\b\b\b 94%\b\b\b\b\b  OK \n",
            "Extracting  images/raccoon-80.jpg                                        \b\b\b\b 94%\b\b\b\b\b  OK \n",
            "Extracting  images/raccoon-81.jpg                                        \b\b\b\b 95%\b\b\b\b\b  OK \n",
            "Extracting  images/raccoon-82.jpg                                        \b\b\b\b 95%\b\b\b\b\b  OK \n",
            "Extracting  images/raccoon-83.jpg                                        \b\b\b\b 95%\b\b\b\b\b  OK \n",
            "Extracting  images/raccoon-84.jpg                                        \b\b\b\b 95%\b\b\b\b\b  OK \n",
            "Extracting  images/raccoon-85.jpg                                        \b\b\b\b 96%\b\b\b\b\b  OK \n",
            "Extracting  images/raccoon-86.jpg                                        \b\b\b\b 96%\b\b\b\b\b  OK \n",
            "Extracting  images/raccoon-87.jpg                                        \b\b\b\b 96%\b\b\b\b\b  OK \n",
            "Extracting  images/raccoon-88.jpg                                        \b\b\b\b 97%\b\b\b\b\b  OK \n",
            "Extracting  images/raccoon-89.jpg                                        \b\b\b\b 97%\b\b\b\b\b  OK \n",
            "Extracting  images/raccoon-9.jpg                                         \b\b\b\b 97%\b\b\b\b\b  OK \n",
            "Extracting  images/raccoon-90.jpg                                        \b\b\b\b 97%\b\b\b\b\b  OK \n",
            "Extracting  images/raccoon-91.jpg                                        \b\b\b\b 98%\b\b\b\b\b  OK \n",
            "Extracting  images/raccoon-92.jpg                                        \b\b\b\b 98%\b\b\b\b\b  OK \n",
            "Extracting  images/raccoon-93.jpg                                        \b\b\b\b 98%\b\b\b\b\b  OK \n",
            "Extracting  images/raccoon-94.jpg                                        \b\b\b\b 99%\b\b\b\b\b  OK \n",
            "Extracting  images/raccoon-95.jpg                                        \b\b\b\b 99%\b\b\b\b\b  OK \n",
            "Extracting  images/raccoon-96.jpg                                        \b\b\b\b 99%\b\b\b\b\b  OK \n",
            "Extracting  images/raccoon-97.jpg                                        \b\b\b\b 99%\b\b\b\b\b  OK \n",
            "Extracting  images/raccoon-98.jpg                                        \b\b\b\b 99%\b\b\b\b\b  OK \n",
            "Extracting  images/raccoon-99.jpg                                        \b\b\b\b 99%\b\b\b\b\b  OK \n",
            "All OK\n"
          ],
          "name": "stdout"
        }
      ]
    },
    {
      "cell_type": "markdown",
      "metadata": {
        "colab_type": "text",
        "id": "wbrrYb5IWGix"
      },
      "source": [
        "### With the help of csv.reader write a for loop which can load the train.csv file and store the path, width, height, x0,y0,x1,y1 in induvidual variables. <br>\n",
        "1. Create a list variable known as 'path' which has all the path for all the training images\n",
        "2. Create an array 'coords' which has the resized coordinates of the bounding box for the training images\n",
        "\n",
        "<u>Note:</u> All the training images should be downsampled to 128 * 128 as it is the input shape of MobileNet (which we will be using for Object detection). Hence the corresponding coordinates of the bounding boxes should be changed to match the image dimension of 128 * 128 "
      ]
    },
    {
      "cell_type": "code",
      "metadata": {
        "id": "KQdbq_lQwRi1",
        "colab_type": "code",
        "colab": {}
      },
      "source": [
        "import csv\n",
        "with open('train_labels.csv', 'r') as csvfile:\n",
        "    paths = []\n",
        "    coords = np.zeros((sum(1 for line in csvfile)-1, 4))\n",
        "    reader = csv.reader(csvfile, delimiter=',')\n",
        "    csvfile.seek(0)\n",
        "    next(reader,None)\n",
        "    for i, row in enumerate(reader):\n",
        "               \n",
        "        for j, r in enumerate(row): # Parse row with seven entities\n",
        "            #print(i)\n",
        "            if((j!=0)&(j!=3)):\n",
        "              row[j] = int(r)\n",
        "              \n",
        "        path,width, height,class_,xmin,ymin,xmax,ymax = row  \n",
        "        paths.append(path)\n",
        "        coords[i, 0] = xmin * IMAGE_SIZE / width # Normalize bounding box by image size\n",
        "        coords[i, 1] = ymin * IMAGE_SIZE / height # Normalize bounding box by image size\n",
        "        coords[i, 2] = xmax * IMAGE_SIZE / width # Normalize bounding box by image size\n",
        "        coords[i, 3] = ymax* IMAGE_SIZE / height"
      ],
      "execution_count": 14,
      "outputs": []
    },
    {
      "cell_type": "markdown",
      "metadata": {
        "colab_type": "text",
        "id": "Z9iZWEpKWGi2"
      },
      "source": [
        "### Write a for loop which can load all the training images into a variable 'batch_images' using the paths from the 'paths' variable\n",
        "<u>Note:</u> Convert the image to RGB scale as the MobileNet accepts 3 channels as inputs   "
      ]
    },
    {
      "cell_type": "code",
      "metadata": {
        "id": "EV42iXj95UWz",
        "colab_type": "code",
        "colab": {}
      },
      "source": [
        "import cv2"
      ],
      "execution_count": 15,
      "outputs": []
    },
    {
      "cell_type": "code",
      "metadata": {
        "id": "AdDZcM2y60sX",
        "colab_type": "code",
        "colab": {
          "base_uri": "https://localhost:8080/",
          "height": 1000
        },
        "outputId": "9071e5d4-31d4-47d8-f685-83d8a211171e"
      },
      "source": [
        "batch_images = np.zeros((len(paths),IMAGE_SIZE,IMAGE_SIZE,3),dtype =np.float32)\n",
        "for i,fil in enumerate(paths):\n",
        "  print(i,fil)\n",
        "  img = Image.open('images/'+fil)\n",
        "  img = img.resize((IMAGE_SIZE,IMAGE_SIZE))\n",
        "  img = img.convert('RGB')\n",
        "  batch_images[i] = preprocess_input(np.array(img,dtype= np.float32))"
      ],
      "execution_count": 16,
      "outputs": [
        {
          "output_type": "stream",
          "text": [
            "0 raccoon-17.jpg\n",
            "1 raccoon-11.jpg\n",
            "2 raccoon-63.jpg\n",
            "3 raccoon-63.jpg\n",
            "4 raccoon-60.jpg\n",
            "5 raccoon-69.jpg\n",
            "6 raccoon-180.jpg\n",
            "7 raccoon-200.jpg\n",
            "8 raccoon-141.jpg\n",
            "9 raccoon-19.jpg\n",
            "10 raccoon-84.jpg\n",
            "11 raccoon-124.jpg\n",
            "12 raccoon-182.jpg\n",
            "13 raccoon-111.jpg\n",
            "14 raccoon-91.jpg\n",
            "15 raccoon-79.jpg\n",
            "16 raccoon-93.jpg\n",
            "17 raccoon-20.jpg\n",
            "18 raccoon-42.jpg\n",
            "19 raccoon-139.jpg\n",
            "20 raccoon-58.jpg\n",
            "21 raccoon-71.jpg\n",
            "22 raccoon-183.jpg\n",
            "23 raccoon-1.jpg\n",
            "24 raccoon-169.jpg\n",
            "25 raccoon-82.jpg\n",
            "26 raccoon-4.jpg\n",
            "27 raccoon-101.jpg\n",
            "28 raccoon-10.jpg\n",
            "29 raccoon-166.jpg\n",
            "30 raccoon-184.jpg\n",
            "31 raccoon-38.jpg\n",
            "32 raccoon-120.jpg\n",
            "33 raccoon-142.jpg\n",
            "34 raccoon-149.jpg\n",
            "35 raccoon-51.jpg\n",
            "36 raccoon-43.jpg\n",
            "37 raccoon-123.jpg\n",
            "38 raccoon-66.jpg\n",
            "39 raccoon-9.jpg\n",
            "40 raccoon-178.jpg\n",
            "41 raccoon-47.jpg\n",
            "42 raccoon-167.jpg\n",
            "43 raccoon-54.jpg\n",
            "44 raccoon-77.jpg\n",
            "45 raccoon-155.jpg\n",
            "46 raccoon-89.jpg\n",
            "47 raccoon-153.jpg\n",
            "48 raccoon-179.jpg\n",
            "49 raccoon-115.jpg\n",
            "50 raccoon-64.jpg\n",
            "51 raccoon-56.jpg\n",
            "52 raccoon-44.jpg\n",
            "53 raccoon-39.jpg\n",
            "54 raccoon-26.jpg\n",
            "55 raccoon-162.jpg\n",
            "56 raccoon-170.jpg\n",
            "57 raccoon-187.jpg\n",
            "58 raccoon-131.jpg\n",
            "59 raccoon-174.jpg\n",
            "60 raccoon-92.jpg\n",
            "61 raccoon-193.jpg\n",
            "62 raccoon-138.jpg\n",
            "63 raccoon-157.jpg\n",
            "64 raccoon-108.jpg\n",
            "65 raccoon-116.jpg\n",
            "66 raccoon-117.jpg\n",
            "67 raccoon-117.jpg\n",
            "68 raccoon-12.jpg\n",
            "69 raccoon-12.jpg\n",
            "70 raccoon-16.jpg\n",
            "71 raccoon-90.jpg\n",
            "72 raccoon-160.jpg\n",
            "73 raccoon-75.jpg\n",
            "74 raccoon-199.jpg\n",
            "75 raccoon-97.jpg\n",
            "76 raccoon-188.jpg\n",
            "77 raccoon-21.jpg\n",
            "78 raccoon-35.jpg\n",
            "79 raccoon-85.jpg\n",
            "80 raccoon-49.jpg\n",
            "81 raccoon-86.jpg\n",
            "82 raccoon-34.jpg\n",
            "83 raccoon-196.jpg\n",
            "84 raccoon-96.jpg\n",
            "85 raccoon-3.jpg\n",
            "86 raccoon-2.jpg\n",
            "87 raccoon-52.jpg\n",
            "88 raccoon-81.jpg\n",
            "89 raccoon-112.jpg\n",
            "90 raccoon-18.jpg\n",
            "91 raccoon-94.jpg\n",
            "92 raccoon-98.jpg\n",
            "93 raccoon-83.jpg\n",
            "94 raccoon-36.jpg\n",
            "95 raccoon-24.jpg\n",
            "96 raccoon-24.jpg\n",
            "97 raccoon-195.jpg\n",
            "98 raccoon-55.jpg\n",
            "99 raccoon-55.jpg\n",
            "100 raccoon-175.jpg\n",
            "101 raccoon-163.jpg\n",
            "102 raccoon-48.jpg\n",
            "103 raccoon-70.jpg\n",
            "104 raccoon-119.jpg\n",
            "105 raccoon-119.jpg\n",
            "106 raccoon-119.jpg\n",
            "107 raccoon-88.jpg\n",
            "108 raccoon-61.jpg\n",
            "109 raccoon-61.jpg\n",
            "110 raccoon-121.jpg\n",
            "111 raccoon-74.jpg\n",
            "112 raccoon-133.jpg\n",
            "113 raccoon-177.jpg\n",
            "114 raccoon-177.jpg\n",
            "115 raccoon-159.jpg\n",
            "116 raccoon-53.jpg\n",
            "117 raccoon-132.jpg\n",
            "118 raccoon-198.jpg\n",
            "119 raccoon-198.jpg\n",
            "120 raccoon-103.jpg\n",
            "121 raccoon-46.jpg\n",
            "122 raccoon-50.jpg\n",
            "123 raccoon-37.jpg\n",
            "124 raccoon-161.jpg\n",
            "125 raccoon-194.jpg\n",
            "126 raccoon-32.jpg\n",
            "127 raccoon-15.jpg\n",
            "128 raccoon-147.jpg\n",
            "129 raccoon-151.jpg\n",
            "130 raccoon-80.jpg\n",
            "131 raccoon-6.jpg\n",
            "132 raccoon-154.jpg\n",
            "133 raccoon-135.jpg\n",
            "134 raccoon-118.jpg\n",
            "135 raccoon-150.jpg\n",
            "136 raccoon-102.jpg\n",
            "137 raccoon-130.jpg\n",
            "138 raccoon-130.jpg\n",
            "139 raccoon-7.jpg\n",
            "140 raccoon-107.jpg\n",
            "141 raccoon-173.jpg\n",
            "142 raccoon-165.jpg\n",
            "143 raccoon-25.jpg\n",
            "144 raccoon-67.jpg\n",
            "145 raccoon-13.jpg\n",
            "146 raccoon-191.jpg\n",
            "147 raccoon-45.jpg\n",
            "148 raccoon-31.jpg\n",
            "149 raccoon-31.jpg\n",
            "150 raccoon-172.jpg\n",
            "151 raccoon-100.jpg\n",
            "152 raccoon-148.jpg\n",
            "153 raccoon-148.jpg\n",
            "154 raccoon-23.jpg\n",
            "155 raccoon-30.jpg\n",
            "156 raccoon-33.jpg\n",
            "157 raccoon-136.jpg\n",
            "158 raccoon-114.jpg\n",
            "159 raccoon-76.jpg\n",
            "160 raccoon-104.jpg\n",
            "161 raccoon-109.jpg\n",
            "162 raccoon-87.jpg\n",
            "163 raccoon-113.jpg\n",
            "164 raccoon-78.jpg\n",
            "165 raccoon-65.jpg\n",
            "166 raccoon-122.jpg\n",
            "167 raccoon-73.jpg\n",
            "168 raccoon-137.jpg\n",
            "169 raccoon-171.jpg\n",
            "170 raccoon-190.jpg\n",
            "171 raccoon-22.jpg\n",
            "172 raccoon-152.jpg\n"
          ],
          "name": "stdout"
        }
      ]
    },
    {
      "cell_type": "markdown",
      "metadata": {
        "colab_type": "text",
        "id": "C9KU6pUTWGi9"
      },
      "source": [
        "### Import MobileNet and load MobileNet into a variable named 'model' which takes input shape of 128 * 128 * 3. Freeze all the layers. Add convolution and reshape layers at the end to ensure the output is 4 coordinates"
      ]
    },
    {
      "cell_type": "code",
      "metadata": {
        "id": "L089mG-l85Gj",
        "colab_type": "code",
        "colab": {
          "base_uri": "https://localhost:8080/",
          "height": 54
        },
        "outputId": "b46db65c-8c90-4c45-e79b-1aece2b9cbf7"
      },
      "source": [
        "model = MobileNet(input_shape=(IMAGE_SIZE, IMAGE_SIZE, 3), include_top=False, alpha=1.0) # Load pre-trained mobilenet\n",
        "# Do not include classification (top) layer\n",
        "\n",
        "# to freeze layers, except the new top layer, of course, which will be added below\n",
        "for layer in model.layers:\n",
        "    layer.trainable = False\n",
        "\n",
        "# Add new top layer which is a conv layer of the same size as the previous layer so that only 4 coords of BBox can be output\n",
        "x = model.layers[-1].output\n",
        "x = Conv2D(4, kernel_size=4, name=\"coords\")(x)\n",
        "# In the line above kernel size should be 3 for img size 96, 4 for img size 128, 5 for img size 160 etc.\n",
        "x = Reshape((4,))(x) # These are the 4 predicted coordinates of one BBox\n",
        "\n",
        "model = Model(inputs=model.input, outputs=x)"
      ],
      "execution_count": 17,
      "outputs": [
        {
          "output_type": "stream",
          "text": [
            "Downloading data from https://storage.googleapis.com/tensorflow/keras-applications/mobilenet/mobilenet_1_0_128_tf_no_top.h5\n",
            "17227776/17225924 [==============================] - 0s 0us/step\n"
          ],
          "name": "stdout"
        }
      ]
    },
    {
      "cell_type": "code",
      "metadata": {
        "id": "opqw3x858jQu",
        "colab_type": "code",
        "colab": {
          "base_uri": "https://localhost:8080/",
          "height": 1000
        },
        "outputId": "cce579a2-b3a5-41c4-d329-2eb2d536e99e"
      },
      "source": [
        "model.summary()"
      ],
      "execution_count": 18,
      "outputs": [
        {
          "output_type": "stream",
          "text": [
            "Model: \"functional_1\"\n",
            "_________________________________________________________________\n",
            "Layer (type)                 Output Shape              Param #   \n",
            "=================================================================\n",
            "input_1 (InputLayer)         [(None, 128, 128, 3)]     0         \n",
            "_________________________________________________________________\n",
            "conv1_pad (ZeroPadding2D)    (None, 129, 129, 3)       0         \n",
            "_________________________________________________________________\n",
            "conv1 (Conv2D)               (None, 64, 64, 32)        864       \n",
            "_________________________________________________________________\n",
            "conv1_bn (BatchNormalization (None, 64, 64, 32)        128       \n",
            "_________________________________________________________________\n",
            "conv1_relu (ReLU)            (None, 64, 64, 32)        0         \n",
            "_________________________________________________________________\n",
            "conv_dw_1 (DepthwiseConv2D)  (None, 64, 64, 32)        288       \n",
            "_________________________________________________________________\n",
            "conv_dw_1_bn (BatchNormaliza (None, 64, 64, 32)        128       \n",
            "_________________________________________________________________\n",
            "conv_dw_1_relu (ReLU)        (None, 64, 64, 32)        0         \n",
            "_________________________________________________________________\n",
            "conv_pw_1 (Conv2D)           (None, 64, 64, 64)        2048      \n",
            "_________________________________________________________________\n",
            "conv_pw_1_bn (BatchNormaliza (None, 64, 64, 64)        256       \n",
            "_________________________________________________________________\n",
            "conv_pw_1_relu (ReLU)        (None, 64, 64, 64)        0         \n",
            "_________________________________________________________________\n",
            "conv_pad_2 (ZeroPadding2D)   (None, 65, 65, 64)        0         \n",
            "_________________________________________________________________\n",
            "conv_dw_2 (DepthwiseConv2D)  (None, 32, 32, 64)        576       \n",
            "_________________________________________________________________\n",
            "conv_dw_2_bn (BatchNormaliza (None, 32, 32, 64)        256       \n",
            "_________________________________________________________________\n",
            "conv_dw_2_relu (ReLU)        (None, 32, 32, 64)        0         \n",
            "_________________________________________________________________\n",
            "conv_pw_2 (Conv2D)           (None, 32, 32, 128)       8192      \n",
            "_________________________________________________________________\n",
            "conv_pw_2_bn (BatchNormaliza (None, 32, 32, 128)       512       \n",
            "_________________________________________________________________\n",
            "conv_pw_2_relu (ReLU)        (None, 32, 32, 128)       0         \n",
            "_________________________________________________________________\n",
            "conv_dw_3 (DepthwiseConv2D)  (None, 32, 32, 128)       1152      \n",
            "_________________________________________________________________\n",
            "conv_dw_3_bn (BatchNormaliza (None, 32, 32, 128)       512       \n",
            "_________________________________________________________________\n",
            "conv_dw_3_relu (ReLU)        (None, 32, 32, 128)       0         \n",
            "_________________________________________________________________\n",
            "conv_pw_3 (Conv2D)           (None, 32, 32, 128)       16384     \n",
            "_________________________________________________________________\n",
            "conv_pw_3_bn (BatchNormaliza (None, 32, 32, 128)       512       \n",
            "_________________________________________________________________\n",
            "conv_pw_3_relu (ReLU)        (None, 32, 32, 128)       0         \n",
            "_________________________________________________________________\n",
            "conv_pad_4 (ZeroPadding2D)   (None, 33, 33, 128)       0         \n",
            "_________________________________________________________________\n",
            "conv_dw_4 (DepthwiseConv2D)  (None, 16, 16, 128)       1152      \n",
            "_________________________________________________________________\n",
            "conv_dw_4_bn (BatchNormaliza (None, 16, 16, 128)       512       \n",
            "_________________________________________________________________\n",
            "conv_dw_4_relu (ReLU)        (None, 16, 16, 128)       0         \n",
            "_________________________________________________________________\n",
            "conv_pw_4 (Conv2D)           (None, 16, 16, 256)       32768     \n",
            "_________________________________________________________________\n",
            "conv_pw_4_bn (BatchNormaliza (None, 16, 16, 256)       1024      \n",
            "_________________________________________________________________\n",
            "conv_pw_4_relu (ReLU)        (None, 16, 16, 256)       0         \n",
            "_________________________________________________________________\n",
            "conv_dw_5 (DepthwiseConv2D)  (None, 16, 16, 256)       2304      \n",
            "_________________________________________________________________\n",
            "conv_dw_5_bn (BatchNormaliza (None, 16, 16, 256)       1024      \n",
            "_________________________________________________________________\n",
            "conv_dw_5_relu (ReLU)        (None, 16, 16, 256)       0         \n",
            "_________________________________________________________________\n",
            "conv_pw_5 (Conv2D)           (None, 16, 16, 256)       65536     \n",
            "_________________________________________________________________\n",
            "conv_pw_5_bn (BatchNormaliza (None, 16, 16, 256)       1024      \n",
            "_________________________________________________________________\n",
            "conv_pw_5_relu (ReLU)        (None, 16, 16, 256)       0         \n",
            "_________________________________________________________________\n",
            "conv_pad_6 (ZeroPadding2D)   (None, 17, 17, 256)       0         \n",
            "_________________________________________________________________\n",
            "conv_dw_6 (DepthwiseConv2D)  (None, 8, 8, 256)         2304      \n",
            "_________________________________________________________________\n",
            "conv_dw_6_bn (BatchNormaliza (None, 8, 8, 256)         1024      \n",
            "_________________________________________________________________\n",
            "conv_dw_6_relu (ReLU)        (None, 8, 8, 256)         0         \n",
            "_________________________________________________________________\n",
            "conv_pw_6 (Conv2D)           (None, 8, 8, 512)         131072    \n",
            "_________________________________________________________________\n",
            "conv_pw_6_bn (BatchNormaliza (None, 8, 8, 512)         2048      \n",
            "_________________________________________________________________\n",
            "conv_pw_6_relu (ReLU)        (None, 8, 8, 512)         0         \n",
            "_________________________________________________________________\n",
            "conv_dw_7 (DepthwiseConv2D)  (None, 8, 8, 512)         4608      \n",
            "_________________________________________________________________\n",
            "conv_dw_7_bn (BatchNormaliza (None, 8, 8, 512)         2048      \n",
            "_________________________________________________________________\n",
            "conv_dw_7_relu (ReLU)        (None, 8, 8, 512)         0         \n",
            "_________________________________________________________________\n",
            "conv_pw_7 (Conv2D)           (None, 8, 8, 512)         262144    \n",
            "_________________________________________________________________\n",
            "conv_pw_7_bn (BatchNormaliza (None, 8, 8, 512)         2048      \n",
            "_________________________________________________________________\n",
            "conv_pw_7_relu (ReLU)        (None, 8, 8, 512)         0         \n",
            "_________________________________________________________________\n",
            "conv_dw_8 (DepthwiseConv2D)  (None, 8, 8, 512)         4608      \n",
            "_________________________________________________________________\n",
            "conv_dw_8_bn (BatchNormaliza (None, 8, 8, 512)         2048      \n",
            "_________________________________________________________________\n",
            "conv_dw_8_relu (ReLU)        (None, 8, 8, 512)         0         \n",
            "_________________________________________________________________\n",
            "conv_pw_8 (Conv2D)           (None, 8, 8, 512)         262144    \n",
            "_________________________________________________________________\n",
            "conv_pw_8_bn (BatchNormaliza (None, 8, 8, 512)         2048      \n",
            "_________________________________________________________________\n",
            "conv_pw_8_relu (ReLU)        (None, 8, 8, 512)         0         \n",
            "_________________________________________________________________\n",
            "conv_dw_9 (DepthwiseConv2D)  (None, 8, 8, 512)         4608      \n",
            "_________________________________________________________________\n",
            "conv_dw_9_bn (BatchNormaliza (None, 8, 8, 512)         2048      \n",
            "_________________________________________________________________\n",
            "conv_dw_9_relu (ReLU)        (None, 8, 8, 512)         0         \n",
            "_________________________________________________________________\n",
            "conv_pw_9 (Conv2D)           (None, 8, 8, 512)         262144    \n",
            "_________________________________________________________________\n",
            "conv_pw_9_bn (BatchNormaliza (None, 8, 8, 512)         2048      \n",
            "_________________________________________________________________\n",
            "conv_pw_9_relu (ReLU)        (None, 8, 8, 512)         0         \n",
            "_________________________________________________________________\n",
            "conv_dw_10 (DepthwiseConv2D) (None, 8, 8, 512)         4608      \n",
            "_________________________________________________________________\n",
            "conv_dw_10_bn (BatchNormaliz (None, 8, 8, 512)         2048      \n",
            "_________________________________________________________________\n",
            "conv_dw_10_relu (ReLU)       (None, 8, 8, 512)         0         \n",
            "_________________________________________________________________\n",
            "conv_pw_10 (Conv2D)          (None, 8, 8, 512)         262144    \n",
            "_________________________________________________________________\n",
            "conv_pw_10_bn (BatchNormaliz (None, 8, 8, 512)         2048      \n",
            "_________________________________________________________________\n",
            "conv_pw_10_relu (ReLU)       (None, 8, 8, 512)         0         \n",
            "_________________________________________________________________\n",
            "conv_dw_11 (DepthwiseConv2D) (None, 8, 8, 512)         4608      \n",
            "_________________________________________________________________\n",
            "conv_dw_11_bn (BatchNormaliz (None, 8, 8, 512)         2048      \n",
            "_________________________________________________________________\n",
            "conv_dw_11_relu (ReLU)       (None, 8, 8, 512)         0         \n",
            "_________________________________________________________________\n",
            "conv_pw_11 (Conv2D)          (None, 8, 8, 512)         262144    \n",
            "_________________________________________________________________\n",
            "conv_pw_11_bn (BatchNormaliz (None, 8, 8, 512)         2048      \n",
            "_________________________________________________________________\n",
            "conv_pw_11_relu (ReLU)       (None, 8, 8, 512)         0         \n",
            "_________________________________________________________________\n",
            "conv_pad_12 (ZeroPadding2D)  (None, 9, 9, 512)         0         \n",
            "_________________________________________________________________\n",
            "conv_dw_12 (DepthwiseConv2D) (None, 4, 4, 512)         4608      \n",
            "_________________________________________________________________\n",
            "conv_dw_12_bn (BatchNormaliz (None, 4, 4, 512)         2048      \n",
            "_________________________________________________________________\n",
            "conv_dw_12_relu (ReLU)       (None, 4, 4, 512)         0         \n",
            "_________________________________________________________________\n",
            "conv_pw_12 (Conv2D)          (None, 4, 4, 1024)        524288    \n",
            "_________________________________________________________________\n",
            "conv_pw_12_bn (BatchNormaliz (None, 4, 4, 1024)        4096      \n",
            "_________________________________________________________________\n",
            "conv_pw_12_relu (ReLU)       (None, 4, 4, 1024)        0         \n",
            "_________________________________________________________________\n",
            "conv_dw_13 (DepthwiseConv2D) (None, 4, 4, 1024)        9216      \n",
            "_________________________________________________________________\n",
            "conv_dw_13_bn (BatchNormaliz (None, 4, 4, 1024)        4096      \n",
            "_________________________________________________________________\n",
            "conv_dw_13_relu (ReLU)       (None, 4, 4, 1024)        0         \n",
            "_________________________________________________________________\n",
            "conv_pw_13 (Conv2D)          (None, 4, 4, 1024)        1048576   \n",
            "_________________________________________________________________\n",
            "conv_pw_13_bn (BatchNormaliz (None, 4, 4, 1024)        4096      \n",
            "_________________________________________________________________\n",
            "conv_pw_13_relu (ReLU)       (None, 4, 4, 1024)        0         \n",
            "_________________________________________________________________\n",
            "coords (Conv2D)              (None, 1, 1, 4)           65540     \n",
            "_________________________________________________________________\n",
            "reshape (Reshape)            (None, 4)                 0         \n",
            "=================================================================\n",
            "Total params: 3,294,404\n",
            "Trainable params: 65,540\n",
            "Non-trainable params: 3,228,864\n",
            "_________________________________________________________________\n"
          ],
          "name": "stdout"
        }
      ]
    },
    {
      "cell_type": "markdown",
      "metadata": {
        "colab_type": "text",
        "id": "nsQSHWgpWGjC"
      },
      "source": [
        "### Define a custom loss function IoU which calculates Intersection Over Union"
      ]
    },
    {
      "cell_type": "code",
      "metadata": {
        "colab_type": "code",
        "id": "7Ig_Gsn-WGjD",
        "colab": {}
      },
      "source": [
        "def loss(gt,pred):\n",
        "    intersections = 0\n",
        "    unions = 0\n",
        "    diff_width = np.minimum(gt[:,0] + gt[:,2], pred[:,0] + pred[:,2]) - np.maximum(gt[:,0], pred[:,0])\n",
        "    diff_height = np.minimum(gt[:,1] + gt[:,3], pred[:,1] + pred[:,3]) - np.maximum(gt[:,1], pred[:,1])\n",
        "    intersection = diff_width * diff_height\n",
        "    \n",
        "    # Compute union\n",
        "    area_gt = gt[:,2] * gt[:,3]\n",
        "    area_pred = pred[:,2] * pred[:,3]\n",
        "    union = area_gt + area_pred - intersection\n",
        "\n",
        "#     Compute intersection and union over multiple boxes\n",
        "    for j, _ in enumerate(union):\n",
        "        if union[j] > 0 and intersection[j] > 0 and union[j] >= intersection[j]:\n",
        "            intersections += intersection[j]\n",
        "            unions += union[j]\n",
        "\n",
        "    # Compute IOU. Use epsilon to prevent division by zero\n",
        "    iou = np.round(intersections / (unions + epsilon()), 4)\n",
        "    iou = iou.astype(np.float32)\n",
        "    return iou\n",
        "\n",
        "def IoU(y_true, y_pred):\n",
        "    iou = tf.py_function(loss, [y_true, y_pred], tf.float32)\n",
        "    return iou"
      ],
      "execution_count": 19,
      "outputs": []
    },
    {
      "cell_type": "markdown",
      "metadata": {
        "colab_type": "text",
        "id": "2Zs7VcSVWGjF"
      },
      "source": [
        "### Write model.compile function & model.fit function with: <br>\n",
        "1. Optimizer = Adam, Loss = 'mse' and metrics = IoU\n",
        "2. Epochs = 30, batch_size = 32, verbose = 1"
      ]
    },
    {
      "cell_type": "code",
      "metadata": {
        "colab_type": "code",
        "id": "f35dLEJlWGjG",
        "colab": {}
      },
      "source": [
        "model.compile(optimizer='Adam', loss='mse', metrics=[IoU])"
      ],
      "execution_count": 20,
      "outputs": []
    },
    {
      "cell_type": "code",
      "metadata": {
        "id": "N00JvsbP-kCs",
        "colab_type": "code",
        "colab": {
          "base_uri": "https://localhost:8080/",
          "height": 1000
        },
        "outputId": "c2512905-689a-48ce-8c33-b5e4b3af678d"
      },
      "source": [
        "model.fit(batch_images,coords,epochs=30,batch_size=32,verbose=1)"
      ],
      "execution_count": 21,
      "outputs": [
        {
          "output_type": "stream",
          "text": [
            "Epoch 1/30\n",
            "6/6 [==============================] - 2s 321ms/step - loss: 4166.2339 - IoU: 0.0818\n",
            "Epoch 2/30\n",
            "6/6 [==============================] - 2s 318ms/step - loss: 778.8993 - IoU: 0.4293\n",
            "Epoch 3/30\n",
            "6/6 [==============================] - 2s 315ms/step - loss: 438.4434 - IoU: 0.5786\n",
            "Epoch 4/30\n",
            "6/6 [==============================] - 2s 320ms/step - loss: 594.9281 - IoU: 0.5331\n",
            "Epoch 5/30\n",
            "6/6 [==============================] - 2s 321ms/step - loss: 339.4606 - IoU: 0.6261\n",
            "Epoch 6/30\n",
            "6/6 [==============================] - 2s 323ms/step - loss: 193.5371 - IoU: 0.6662\n",
            "Epoch 7/30\n",
            "6/6 [==============================] - 2s 317ms/step - loss: 195.6365 - IoU: 0.6673\n",
            "Epoch 8/30\n",
            "6/6 [==============================] - 2s 315ms/step - loss: 161.0419 - IoU: 0.6969\n",
            "Epoch 9/30\n",
            "6/6 [==============================] - 2s 317ms/step - loss: 122.4801 - IoU: 0.7431\n",
            "Epoch 10/30\n",
            "6/6 [==============================] - 2s 323ms/step - loss: 110.8385 - IoU: 0.7761\n",
            "Epoch 11/30\n",
            "6/6 [==============================] - 2s 318ms/step - loss: 99.4154 - IoU: 0.7783\n",
            "Epoch 12/30\n",
            "6/6 [==============================] - 2s 315ms/step - loss: 89.0716 - IoU: 0.7933\n",
            "Epoch 13/30\n",
            "6/6 [==============================] - 2s 321ms/step - loss: 85.1275 - IoU: 0.7872\n",
            "Epoch 14/30\n",
            "6/6 [==============================] - 2s 325ms/step - loss: 79.1653 - IoU: 0.8049\n",
            "Epoch 15/30\n",
            "6/6 [==============================] - 2s 318ms/step - loss: 75.2747 - IoU: 0.8152\n",
            "Epoch 16/30\n",
            "6/6 [==============================] - 2s 316ms/step - loss: 71.3102 - IoU: 0.8213\n",
            "Epoch 17/30\n",
            "6/6 [==============================] - 2s 322ms/step - loss: 68.2782 - IoU: 0.8304\n",
            "Epoch 18/30\n",
            "6/6 [==============================] - 2s 315ms/step - loss: 65.8912 - IoU: 0.8296\n",
            "Epoch 19/30\n",
            "6/6 [==============================] - 2s 324ms/step - loss: 64.3609 - IoU: 0.8302\n",
            "Epoch 20/30\n",
            "6/6 [==============================] - 2s 318ms/step - loss: 63.7992 - IoU: 0.8259\n",
            "Epoch 21/30\n",
            "6/6 [==============================] - 2s 316ms/step - loss: 61.5010 - IoU: 0.8435\n",
            "Epoch 22/30\n",
            "6/6 [==============================] - 2s 319ms/step - loss: 60.4586 - IoU: 0.8402\n",
            "Epoch 23/30\n",
            "6/6 [==============================] - 2s 319ms/step - loss: 57.9093 - IoU: 0.8516\n",
            "Epoch 24/30\n",
            "6/6 [==============================] - 2s 315ms/step - loss: 57.2234 - IoU: 0.8572\n",
            "Epoch 25/30\n",
            "6/6 [==============================] - 2s 312ms/step - loss: 56.7762 - IoU: 0.8597\n",
            "Epoch 26/30\n",
            "6/6 [==============================] - 2s 313ms/step - loss: 55.0257 - IoU: 0.8534\n",
            "Epoch 27/30\n",
            "6/6 [==============================] - 2s 314ms/step - loss: 54.4934 - IoU: 0.8590\n",
            "Epoch 28/30\n",
            "6/6 [==============================] - 2s 317ms/step - loss: 54.7609 - IoU: 0.8538\n",
            "Epoch 29/30\n",
            "6/6 [==============================] - 2s 313ms/step - loss: 54.2707 - IoU: 0.8714\n",
            "Epoch 30/30\n",
            "6/6 [==============================] - 2s 314ms/step - loss: 54.1730 - IoU: 0.8602\n"
          ],
          "name": "stdout"
        },
        {
          "output_type": "execute_result",
          "data": {
            "text/plain": [
              "<tensorflow.python.keras.callbacks.History at 0x7f2dfb5ca710>"
            ]
          },
          "metadata": {
            "tags": []
          },
          "execution_count": 21
        }
      ]
    },
    {
      "cell_type": "markdown",
      "metadata": {
        "colab_type": "text",
        "id": "II1itmqiWGjK"
      },
      "source": [
        "### Pick a test image from the given data"
      ]
    },
    {
      "cell_type": "code",
      "metadata": {
        "colab_type": "code",
        "id": "0ULErYeSWGjK",
        "colab": {}
      },
      "source": [
        "testimage = './images/raccoon-198.jpg'\n",
        "unscaledtest = cv2.imread(testimage)"
      ],
      "execution_count": 26,
      "outputs": []
    },
    {
      "cell_type": "markdown",
      "metadata": {
        "colab_type": "text",
        "id": "h99SC9MjWGjO"
      },
      "source": [
        "### Resize the image to 128 * 128 and preprocess the image for the MobileNet model"
      ]
    },
    {
      "cell_type": "code",
      "metadata": {
        "colab_type": "code",
        "id": "J3jbKm7_WGjP",
        "colab": {}
      },
      "source": [
        "height,width,_ = unscaledtest.shape\n",
        "image = cv2.resize(unscaledtest, (IMAGE_SIZE, IMAGE_SIZE)) # Rescaled image to run the network\n",
        "feat_scaled = preprocess_input(np.array(image, dtype=np.float32))"
      ],
      "execution_count": 27,
      "outputs": []
    },
    {
      "cell_type": "markdown",
      "metadata": {
        "colab_type": "text",
        "id": "aGK4IjdaWGjR"
      },
      "source": [
        "### Predict the coordinates of the bounding box for the given test image"
      ]
    },
    {
      "cell_type": "code",
      "metadata": {
        "colab_type": "code",
        "id": "abnXH5F7WGjS",
        "colab": {}
      },
      "source": [
        "region = model.predict(x=np.array([feat_scaled]))[0] # Predict the BBox"
      ],
      "execution_count": 28,
      "outputs": []
    },
    {
      "cell_type": "markdown",
      "metadata": {
        "colab_type": "text",
        "id": "CXbjVdLWWGjW"
      },
      "source": [
        "### Plot the test image using .imshow and draw a boundary box around the image with the coordinates obtained from the model"
      ]
    },
    {
      "cell_type": "code",
      "metadata": {
        "colab_type": "code",
        "id": "t4Ah05MlWGjY",
        "colab": {
          "base_uri": "https://localhost:8080/",
          "height": 269
        },
        "outputId": "d262cf0e-c3eb-4f93-81f4-77af62dfc931"
      },
      "source": [
        "x0 = int(region[0] * width / IMAGE_SIZE) # Scale the BBox\n",
        "y0 = int(region[1] * height / IMAGE_SIZE)\n",
        "\n",
        "x1 = int((region[2]) * width / IMAGE_SIZE)\n",
        "y1 = int((region[3]) * height / IMAGE_SIZE)\n",
        "\n",
        "\n",
        "import matplotlib.pyplot as plt\n",
        "import matplotlib.patches as patches\n",
        "from PIL import Image\n",
        "import numpy as np\n",
        "\n",
        "\n",
        "# Create figure and axes\n",
        "fig,ax = plt.subplots(1)\n",
        "\n",
        "# Display the image\n",
        "ax.imshow(unscaledtest)\n",
        "\n",
        "# Create a Rectangle patch\n",
        "rect = patches.Rectangle((x0, y0), (x1 - x0) , (y1 - y0) , linewidth=2, edgecolor='r', facecolor='none')\n",
        "\n",
        "# Add the patch to the Axes\n",
        "ax.add_patch(rect)\n",
        "\n",
        "plt.show()"
      ],
      "execution_count": 29,
      "outputs": [
        {
          "output_type": "display_data",
          "data": {
            "image/png": "[encoded data removed]",
            "text/plain": [
              "<Figure size 432x288 with 1 Axes>"
            ]
          },
          "metadata": {
            "tags": [],
            "needs_background": "light"
          }
        }
      ]
    },
    {
      "cell_type": "code",
      "metadata": {
        "id": "qYmszovUK0TX",
        "colab_type": "code",
        "colab": {}
      },
      "source": [
        ""
      ],
      "execution_count": 29,
      "outputs": []
    }
  ]
}