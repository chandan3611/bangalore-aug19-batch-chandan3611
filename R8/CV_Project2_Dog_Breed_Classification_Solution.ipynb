{
 "cells": [
  {
   "cell_type": "markdown",
   "metadata": {
    "colab_type": "text",
    "id": "2kIWaR5ZpKlJ"
   },
   "source": [
    "## Dog Breed Classification\n",
    "\n",
    "In this project we will use traditional CNN, CNN with data augmentation and finally transfer Learning by VGG16 model with weights pre-trained on Imagenet to solve the dog breed classification problem"
   ]
  },
  {
   "cell_type": "code",
   "execution_count": 1,
   "metadata": {
    "colab": {
     "base_uri": "https://localhost:8080/",
     "height": 625
    },
    "colab_type": "code",
    "id": "RzSzzSB7jBbM",
    "outputId": "d56f0e9c-6f2d-41af-f4ee-f517a368b3db"
   },
   "outputs": [
    {
     "name": "stdout",
     "output_type": "stream",
     "text": [
      "Requirement already satisfied: tensorflow-gpu in /usr/local/lib/python3.6/dist-packages (2.1.0)\n",
      "Requirement already satisfied: gast==0.2.2 in /usr/local/lib/python3.6/dist-packages (from tensorflow-gpu) (0.2.2)\n",
      "Requirement already satisfied: tensorflow-estimator<2.2.0,>=2.1.0rc0 in /usr/local/lib/python3.6/dist-packages (from tensorflow-gpu) (2.1.0)\n",
      "Requirement already satisfied: wrapt>=1.11.1 in /usr/local/lib/python3.6/dist-packages (from tensorflow-gpu) (1.12.1)\n",
      "Requirement already satisfied: astor>=0.6.0 in /usr/local/lib/python3.6/dist-packages (from tensorflow-gpu) (0.8.1)\n",
      "Requirement already satisfied: keras-applications>=1.0.8 in /usr/local/lib/python3.6/dist-packages (from tensorflow-gpu) (1.0.8)\n",
      "Requirement already satisfied: numpy<2.0,>=1.16.0 in /usr/local/lib/python3.6/dist-packages (from tensorflow-gpu) (1.18.2)\n",
      "Requirement already satisfied: wheel>=0.26; python_version >= \"3\" in /usr/local/lib/python3.6/dist-packages (from tensorflow-gpu) (0.34.2)\n",
      "Requirement already satisfied: tensorboard<2.2.0,>=2.1.0 in /usr/local/lib/python3.6/dist-packages (from tensorflow-gpu) (2.1.1)\n",
      "Requirement already satisfied: grpcio>=1.8.6 in /usr/local/lib/python3.6/dist-packages (from tensorflow-gpu) (1.28.1)\n",
      "Requirement already satisfied: six>=1.12.0 in /usr/local/lib/python3.6/dist-packages (from tensorflow-gpu) (1.12.0)\n",
      "Requirement already satisfied: protobuf>=3.8.0 in /usr/local/lib/python3.6/dist-packages (from tensorflow-gpu) (3.10.0)\n",
      "Requirement already satisfied: scipy==1.4.1; python_version >= \"3\" in /usr/local/lib/python3.6/dist-packages (from tensorflow-gpu) (1.4.1)\n",
      "Requirement already satisfied: opt-einsum>=2.3.2 in /usr/local/lib/python3.6/dist-packages (from tensorflow-gpu) (3.2.0)\n",
      "Requirement already satisfied: termcolor>=1.1.0 in /usr/local/lib/python3.6/dist-packages (from tensorflow-gpu) (1.1.0)\n",
      "Requirement already satisfied: absl-py>=0.7.0 in /usr/local/lib/python3.6/dist-packages (from tensorflow-gpu) (0.9.0)\n",
      "Requirement already satisfied: google-pasta>=0.1.6 in /usr/local/lib/python3.6/dist-packages (from tensorflow-gpu) (0.2.0)\n",
      "Requirement already satisfied: keras-preprocessing>=1.1.0 in /usr/local/lib/python3.6/dist-packages (from tensorflow-gpu) (1.1.0)\n",
      "Requirement already satisfied: h5py in /usr/local/lib/python3.6/dist-packages (from keras-applications>=1.0.8->tensorflow-gpu) (2.10.0)\n",
      "Requirement already satisfied: setuptools>=41.0.0 in /usr/local/lib/python3.6/dist-packages (from tensorboard<2.2.0,>=2.1.0->tensorflow-gpu) (46.1.3)\n",
      "Requirement already satisfied: google-auth<2,>=1.6.3 in /usr/local/lib/python3.6/dist-packages (from tensorboard<2.2.0,>=2.1.0->tensorflow-gpu) (1.7.2)\n",
      "Requirement already satisfied: google-auth-oauthlib<0.5,>=0.4.1 in /usr/local/lib/python3.6/dist-packages (from tensorboard<2.2.0,>=2.1.0->tensorflow-gpu) (0.4.1)\n",
      "Requirement already satisfied: werkzeug>=0.11.15 in /usr/local/lib/python3.6/dist-packages (from tensorboard<2.2.0,>=2.1.0->tensorflow-gpu) (1.0.1)\n",
      "Requirement already satisfied: markdown>=2.6.8 in /usr/local/lib/python3.6/dist-packages (from tensorboard<2.2.0,>=2.1.0->tensorflow-gpu) (3.2.1)\n",
      "Requirement already satisfied: requests<3,>=2.21.0 in /usr/local/lib/python3.6/dist-packages (from tensorboard<2.2.0,>=2.1.0->tensorflow-gpu) (2.21.0)\n",
      "Requirement already satisfied: rsa<4.1,>=3.1.4 in /usr/local/lib/python3.6/dist-packages (from google-auth<2,>=1.6.3->tensorboard<2.2.0,>=2.1.0->tensorflow-gpu) (4.0)\n",
      "Requirement already satisfied: cachetools<3.2,>=2.0.0 in /usr/local/lib/python3.6/dist-packages (from google-auth<2,>=1.6.3->tensorboard<2.2.0,>=2.1.0->tensorflow-gpu) (3.1.1)\n",
      "Requirement already satisfied: pyasn1-modules>=0.2.1 in /usr/local/lib/python3.6/dist-packages (from google-auth<2,>=1.6.3->tensorboard<2.2.0,>=2.1.0->tensorflow-gpu) (0.2.8)\n",
      "Requirement already satisfied: requests-oauthlib>=0.7.0 in /usr/local/lib/python3.6/dist-packages (from google-auth-oauthlib<0.5,>=0.4.1->tensorboard<2.2.0,>=2.1.0->tensorflow-gpu) (1.3.0)\n",
      "Requirement already satisfied: idna<2.9,>=2.5 in /usr/local/lib/python3.6/dist-packages (from requests<3,>=2.21.0->tensorboard<2.2.0,>=2.1.0->tensorflow-gpu) (2.8)\n",
      "Requirement already satisfied: urllib3<1.25,>=1.21.1 in /usr/local/lib/python3.6/dist-packages (from requests<3,>=2.21.0->tensorboard<2.2.0,>=2.1.0->tensorflow-gpu) (1.24.3)\n",
      "Requirement already satisfied: chardet<3.1.0,>=3.0.2 in /usr/local/lib/python3.6/dist-packages (from requests<3,>=2.21.0->tensorboard<2.2.0,>=2.1.0->tensorflow-gpu) (3.0.4)\n",
      "Requirement already satisfied: certifi>=2017.4.17 in /usr/local/lib/python3.6/dist-packages (from requests<3,>=2.21.0->tensorboard<2.2.0,>=2.1.0->tensorflow-gpu) (2020.4.5.1)\n",
      "Requirement already satisfied: pyasn1>=0.1.3 in /usr/local/lib/python3.6/dist-packages (from rsa<4.1,>=3.1.4->google-auth<2,>=1.6.3->tensorboard<2.2.0,>=2.1.0->tensorflow-gpu) (0.4.8)\n",
      "Requirement already satisfied: oauthlib>=3.0.0 in /usr/local/lib/python3.6/dist-packages (from requests-oauthlib>=0.7.0->google-auth-oauthlib<0.5,>=0.4.1->tensorboard<2.2.0,>=2.1.0->tensorflow-gpu) (3.1.0)\n"
     ]
    }
   ],
   "source": [
    "!pip install tensorflow-gpu"
   ]
  },
  {
   "cell_type": "markdown",
   "metadata": {
    "colab_type": "text",
    "id": "F7MDmaAw2xGO"
   },
   "source": [
    "# Load Dataset Files"
   ]
  },
  {
   "cell_type": "code",
   "execution_count": 2,
   "metadata": {
    "colab": {
     "base_uri": "https://localhost:8080/",
     "height": 34
    },
    "colab_type": "code",
    "id": "BZWpQv1OwqYK",
    "outputId": "446cbcc6-44a4-469b-fc75-9efb5c6917cc"
   },
   "outputs": [
    {
     "name": "stdout",
     "output_type": "stream",
     "text": [
      "2.1.0\n"
     ]
    }
   ],
   "source": [
    "import tensorflow as tf\n",
    "print(tf.__version__)"
   ]
  },
  {
   "cell_type": "code",
   "execution_count": 0,
   "metadata": {
    "colab": {},
    "colab_type": "code",
    "id": "5MRIsCY4sQzd"
   },
   "outputs": [],
   "source": [
    "import pandas as pd\n",
    "import numpy as np\n",
    "from tqdm import tqdm\n",
    "\n",
    "from sklearn.preprocessing import LabelEncoder\n",
    "from tensorflow import keras\n",
    "from tensorflow.keras import utils\n",
    "from sklearn.model_selection import  train_test_split\n",
    "\n",
    "from tensorflow import keras\n",
    "from tensorflow.keras.models import Sequential,Model\n",
    "from tensorflow.keras.layers import Conv2D, MaxPool2D,Flatten,Activation,Dropout, Dense,Input\n",
    "from tensorflow.keras.optimizers import RMSprop\n",
    "from tensorflow.keras.layers import LeakyReLU\n",
    "from tensorflow.keras.callbacks import EarlyStopping\n",
    "from tensorflow.keras.layers import BatchNormalization\n",
    "from sklearn import metrics\n",
    "from tensorflow.keras import utils \n",
    "from tensorflow.keras.initializers import he_normal\n",
    "from tensorflow.keras.preprocessing.image import ImageDataGenerator\n",
    "\n",
    "import cv2\n",
    "import time"
   ]
  },
  {
   "cell_type": "code",
   "execution_count": 4,
   "metadata": {
    "colab": {
     "base_uri": "https://localhost:8080/",
     "height": 34
    },
    "colab_type": "code",
    "id": "fVhB9OopxFbX",
    "outputId": "14bfdafc-a874-49b1-c9ca-baadbbb77e40"
   },
   "outputs": [
    {
     "name": "stdout",
     "output_type": "stream",
     "text": [
      "Drive already mounted at /gdrive/; to attempt to forcibly remount, call drive.mount(\"/gdrive/\", force_remount=True).\n"
     ]
    }
   ],
   "source": [
    "from google.colab import drive\n",
    "drive.mount('/gdrive/')"
   ]
  },
  {
   "cell_type": "markdown",
   "metadata": {
    "colab_type": "text",
    "id": "1q2zzIaUprk_"
   },
   "source": [
    "Now, upload the given dataset file shared with you in your google drive and give its path for the below given `project_path` variable. For example, a path is given below according to the file path in our google drive. You need to change this to match the path of yours."
   ]
  },
  {
   "cell_type": "code",
   "execution_count": 5,
   "metadata": {
    "colab": {
     "base_uri": "https://localhost:8080/",
     "height": 34
    },
    "colab_type": "code",
    "id": "Tp6FvAToxUFs",
    "outputId": "964e1340-fe8f-4ce1-e895-ecc6394f0d99"
   },
   "outputs": [
    {
     "data": {
      "text/plain": [
       "'/gdrive/My Drive/Colab Notebooks/R8/Lab/CV/DogBreed'"
      ]
     },
     "execution_count": 5,
     "metadata": {
      "tags": []
     },
     "output_type": "execute_result"
    }
   ],
   "source": [
    "project_path = \"/gdrive/My Drive/Colab Notebooks/R8/Lab/CV/DogBreed\"\n",
    "project_path"
   ]
  },
  {
   "cell_type": "markdown",
   "metadata": {
    "colab_type": "text",
    "id": "rydR_j8lqUei"
   },
   "source": [
    "Run the below code to extract all the images in the train.zip files given in the dataset. We are going to use these images as train and validation sets and their labels in further steps."
   ]
  },
  {
   "cell_type": "code",
   "execution_count": 0,
   "metadata": {
    "colab": {},
    "colab_type": "code",
    "id": "skRHhMFjqoYc"
   },
   "outputs": [],
   "source": [
    "from zipfile import ZipFile"
   ]
  },
  {
   "cell_type": "code",
   "execution_count": 0,
   "metadata": {
    "colab": {},
    "colab_type": "code",
    "id": "3350WZM4w4EL"
   },
   "outputs": [],
   "source": [
    "with ZipFile(project_path+'/train.zip', 'r') as z:\n",
    "  z.extractall()"
   ]
  },
  {
   "cell_type": "markdown",
   "metadata": {
    "colab_type": "text",
    "id": "3NHq1iBCfFjE"
   },
   "source": [
    "Repeat the same step for test.zip"
   ]
  },
  {
   "cell_type": "code",
   "execution_count": 0,
   "metadata": {
    "colab": {},
    "colab_type": "code",
    "id": "_fxzynvB2YCb"
   },
   "outputs": [],
   "source": [
    "with ZipFile(project_path+'/test.zip', 'r') as z:\n",
    "  z.extractall()"
   ]
  },
  {
   "cell_type": "markdown",
   "metadata": {
    "colab_type": "text",
    "id": "jnUMhQrDfJmz"
   },
   "source": [
    "Repeat the same step for sample_submission.csv.zip"
   ]
  },
  {
   "cell_type": "code",
   "execution_count": 0,
   "metadata": {
    "colab": {},
    "colab_type": "code",
    "id": "4PyTxE8q2jLf"
   },
   "outputs": [],
   "source": [
    "with ZipFile(project_path+'/sample_submission.csv.zip', 'r') as z:\n",
    "  z.extractall()"
   ]
  },
  {
   "cell_type": "markdown",
   "metadata": {
    "colab_type": "text",
    "id": "2G9RIxB-fOLT"
   },
   "source": [
    "Repeat the same step for labels.csv.zip"
   ]
  },
  {
   "cell_type": "code",
   "execution_count": 0,
   "metadata": {
    "colab": {},
    "colab_type": "code",
    "id": "rXtnEoEixbgi"
   },
   "outputs": [],
   "source": [
    "with ZipFile(project_path+'/labels.csv.zip', 'r') as z:\n",
    "  z.extractall()"
   ]
  },
  {
   "cell_type": "code",
   "execution_count": 11,
   "metadata": {
    "colab": {
     "base_uri": "https://localhost:8080/",
     "height": 34
    },
    "colab_type": "code",
    "id": "1l1JZ3o3rCKK",
    "outputId": "58bb0b34-65a7-454f-aa51-fd99da65ca3c"
   },
   "outputs": [
    {
     "name": "stdout",
     "output_type": "stream",
     "text": [
      "labels.csv  sample_data  sample_submission.csv\ttest  train\n"
     ]
    }
   ],
   "source": [
    "!ls"
   ]
  },
  {
   "cell_type": "markdown",
   "metadata": {
    "colab_type": "text",
    "id": "sJc1lVrW_jmL"
   },
   "source": [
    "After this process, we will have 4 files - Train folder, test folder and labels.csv and sample_submission.csv as part of your google drive"
   ]
  },
  {
   "cell_type": "markdown",
   "metadata": {
    "colab_type": "text",
    "id": "aYmJKmDqqpng"
   },
   "source": [
    "### Read labels.csv file using pandas"
   ]
  },
  {
   "cell_type": "code",
   "execution_count": 0,
   "metadata": {
    "colab": {},
    "colab_type": "code",
    "id": "WmlJ2VMY96IZ"
   },
   "outputs": [],
   "source": [
    "labels_df = pd.read_csv('labels.csv')"
   ]
  },
  {
   "cell_type": "code",
   "execution_count": 13,
   "metadata": {
    "colab": {
     "base_uri": "https://localhost:8080/",
     "height": 195
    },
    "colab_type": "code",
    "id": "hPvb1RSc96If",
    "outputId": "7e11c66f-615f-49cd-9ccb-cba066a06e5a"
   },
   "outputs": [
    {
     "data": {
      "text/html": [
       "<div>\n",
       "<style scoped>\n",
       "    .dataframe tbody tr th:only-of-type {\n",
       "        vertical-align: middle;\n",
       "    }\n",
       "\n",
       "    .dataframe tbody tr th {\n",
       "        vertical-align: top;\n",
       "    }\n",
       "\n",
       "    .dataframe thead th {\n",
       "        text-align: right;\n",
       "    }\n",
       "</style>\n",
       "<table border=\"1\" class=\"dataframe\">\n",
       "  <thead>\n",
       "    <tr style=\"text-align: right;\">\n",
       "      <th></th>\n",
       "      <th>id</th>\n",
       "      <th>breed</th>\n",
       "    </tr>\n",
       "  </thead>\n",
       "  <tbody>\n",
       "    <tr>\n",
       "      <th>0</th>\n",
       "      <td>000bec180eb18c7604dcecc8fe0dba07</td>\n",
       "      <td>boston_bull</td>\n",
       "    </tr>\n",
       "    <tr>\n",
       "      <th>1</th>\n",
       "      <td>001513dfcb2ffafc82cccf4d8bbaba97</td>\n",
       "      <td>dingo</td>\n",
       "    </tr>\n",
       "    <tr>\n",
       "      <th>2</th>\n",
       "      <td>001cdf01b096e06d78e9e5112d419397</td>\n",
       "      <td>pekinese</td>\n",
       "    </tr>\n",
       "    <tr>\n",
       "      <th>3</th>\n",
       "      <td>00214f311d5d2247d5dfe4fe24b2303d</td>\n",
       "      <td>bluetick</td>\n",
       "    </tr>\n",
       "    <tr>\n",
       "      <th>4</th>\n",
       "      <td>0021f9ceb3235effd7fcde7f7538ed62</td>\n",
       "      <td>golden_retriever</td>\n",
       "    </tr>\n",
       "  </tbody>\n",
       "</table>\n",
       "</div>"
      ],
      "text/plain": [
       "                                 id             breed\n",
       "0  000bec180eb18c7604dcecc8fe0dba07       boston_bull\n",
       "1  001513dfcb2ffafc82cccf4d8bbaba97             dingo\n",
       "2  001cdf01b096e06d78e9e5112d419397          pekinese\n",
       "3  00214f311d5d2247d5dfe4fe24b2303d          bluetick\n",
       "4  0021f9ceb3235effd7fcde7f7538ed62  golden_retriever"
      ]
     },
     "execution_count": 13,
     "metadata": {
      "tags": []
     },
     "output_type": "execute_result"
    }
   ],
   "source": [
    "labels_df.head()"
   ]
  },
  {
   "cell_type": "markdown",
   "metadata": {
    "colab_type": "text",
    "id": "QP8YAzQvqyK-"
   },
   "source": [
    "### Print the count of each category of Dogs given in the dataset\n",
    "\n"
   ]
  },
  {
   "cell_type": "code",
   "execution_count": 14,
   "metadata": {
    "colab": {
     "base_uri": "https://localhost:8080/",
     "height": 50
    },
    "colab_type": "code",
    "id": "3L2naXlr96Im",
    "outputId": "9421df50-9fff-4e00-945c-8d2210da0239"
   },
   "outputs": [
    {
     "name": "stdout",
     "output_type": "stream",
     "text": [
      "Total number of dogs:  10222\n",
      "Total number of breeds:  120\n"
     ]
    }
   ],
   "source": [
    "print(\"Total number of dogs: \", labels_df.shape[0])\n",
    "print(\"Total number of breeds: \", len(labels_df['breed'].unique()))"
   ]
  },
  {
   "cell_type": "code",
   "execution_count": 15,
   "metadata": {
    "colab": {
     "base_uri": "https://localhost:8080/",
     "height": 286
    },
    "colab_type": "code",
    "id": "CLm3W5RN96Ir",
    "outputId": "47ced9a6-56b8-4321-d875-2f64723a53f1"
   },
   "outputs": [
    {
     "name": "stdout",
     "output_type": "stream",
     "text": [
      "Number of dogs from each breed\n",
      "                       id\n",
      "breed                    \n",
      "scottish_deerhound    126\n",
      "maltese_dog           117\n",
      "afghan_hound          116\n",
      "entlebucher           115\n",
      "bernese_mountain_dog  114\n",
      "...                   ...\n",
      "golden_retriever       67\n",
      "brabancon_griffon      67\n",
      "komondor               67\n",
      "briard                 66\n",
      "eskimo_dog             66\n",
      "\n",
      "[120 rows x 1 columns]\n"
     ]
    }
   ],
   "source": [
    "print(\"Number of dogs from each breed\")\n",
    "print(labels_df.groupby(\"breed\").count().sort_values(by=\"id\", ascending=False))"
   ]
  },
  {
   "cell_type": "code",
   "execution_count": 0,
   "metadata": {
    "colab": {},
    "colab_type": "code",
    "id": "GgYJ577708Y5"
   },
   "outputs": [],
   "source": [
    "#Add file name in dataframe\n",
    "labels_df['filename'] = labels_df.apply(lambda x: ('train/' + x['id'] + '.jpg'), axis=1)"
   ]
  },
  {
   "cell_type": "code",
   "execution_count": 17,
   "metadata": {
    "colab": {
     "base_uri": "https://localhost:8080/",
     "height": 195
    },
    "colab_type": "code",
    "id": "xJCUa88R1C2O",
    "outputId": "46cc2576-a9ac-4fdd-9931-cf09dc810c0c"
   },
   "outputs": [
    {
     "data": {
      "text/html": [
       "<div>\n",
       "<style scoped>\n",
       "    .dataframe tbody tr th:only-of-type {\n",
       "        vertical-align: middle;\n",
       "    }\n",
       "\n",
       "    .dataframe tbody tr th {\n",
       "        vertical-align: top;\n",
       "    }\n",
       "\n",
       "    .dataframe thead th {\n",
       "        text-align: right;\n",
       "    }\n",
       "</style>\n",
       "<table border=\"1\" class=\"dataframe\">\n",
       "  <thead>\n",
       "    <tr style=\"text-align: right;\">\n",
       "      <th></th>\n",
       "      <th>id</th>\n",
       "      <th>breed</th>\n",
       "      <th>filename</th>\n",
       "    </tr>\n",
       "  </thead>\n",
       "  <tbody>\n",
       "    <tr>\n",
       "      <th>0</th>\n",
       "      <td>000bec180eb18c7604dcecc8fe0dba07</td>\n",
       "      <td>boston_bull</td>\n",
       "      <td>train/000bec180eb18c7604dcecc8fe0dba07.jpg</td>\n",
       "    </tr>\n",
       "    <tr>\n",
       "      <th>1</th>\n",
       "      <td>001513dfcb2ffafc82cccf4d8bbaba97</td>\n",
       "      <td>dingo</td>\n",
       "      <td>train/001513dfcb2ffafc82cccf4d8bbaba97.jpg</td>\n",
       "    </tr>\n",
       "    <tr>\n",
       "      <th>2</th>\n",
       "      <td>001cdf01b096e06d78e9e5112d419397</td>\n",
       "      <td>pekinese</td>\n",
       "      <td>train/001cdf01b096e06d78e9e5112d419397.jpg</td>\n",
       "    </tr>\n",
       "    <tr>\n",
       "      <th>3</th>\n",
       "      <td>00214f311d5d2247d5dfe4fe24b2303d</td>\n",
       "      <td>bluetick</td>\n",
       "      <td>train/00214f311d5d2247d5dfe4fe24b2303d.jpg</td>\n",
       "    </tr>\n",
       "    <tr>\n",
       "      <th>4</th>\n",
       "      <td>0021f9ceb3235effd7fcde7f7538ed62</td>\n",
       "      <td>golden_retriever</td>\n",
       "      <td>train/0021f9ceb3235effd7fcde7f7538ed62.jpg</td>\n",
       "    </tr>\n",
       "  </tbody>\n",
       "</table>\n",
       "</div>"
      ],
      "text/plain": [
       "                                 id  ...                                    filename\n",
       "0  000bec180eb18c7604dcecc8fe0dba07  ...  train/000bec180eb18c7604dcecc8fe0dba07.jpg\n",
       "1  001513dfcb2ffafc82cccf4d8bbaba97  ...  train/001513dfcb2ffafc82cccf4d8bbaba97.jpg\n",
       "2  001cdf01b096e06d78e9e5112d419397  ...  train/001cdf01b096e06d78e9e5112d419397.jpg\n",
       "3  00214f311d5d2247d5dfe4fe24b2303d  ...  train/00214f311d5d2247d5dfe4fe24b2303d.jpg\n",
       "4  0021f9ceb3235effd7fcde7f7538ed62  ...  train/0021f9ceb3235effd7fcde7f7538ed62.jpg\n",
       "\n",
       "[5 rows x 3 columns]"
      ]
     },
     "execution_count": 17,
     "metadata": {
      "tags": []
     },
     "output_type": "execute_result"
    }
   ],
   "source": [
    "labels_df.head()"
   ]
  },
  {
   "cell_type": "markdown",
   "metadata": {
    "colab_type": "text",
    "id": "WI94_Qcc0D4M"
   },
   "source": [
    "### Get one-hot encodings of labels"
   ]
  },
  {
   "cell_type": "code",
   "execution_count": 18,
   "metadata": {
    "colab": {
     "base_uri": "https://localhost:8080/",
     "height": 34
    },
    "colab_type": "code",
    "id": "Q48iAcY196I3",
    "outputId": "f22ced2f-0941-4258-ab1a-799a5ba74814"
   },
   "outputs": [
    {
     "data": {
      "text/plain": [
       "array([19, 37, 85, ...,  3, 75, 28])"
      ]
     },
     "execution_count": 18,
     "metadata": {
      "tags": []
     },
     "output_type": "execute_result"
    }
   ],
   "source": [
    "# Label encoding\n",
    "labelEncoder = LabelEncoder()\n",
    "labels_df['breed'] = labelEncoder.fit_transform(labels_df['breed'].values)\n",
    "labels_df['breed'].values"
   ]
  },
  {
   "cell_type": "code",
   "execution_count": 0,
   "metadata": {
    "colab": {},
    "colab_type": "code",
    "id": "9nlWmRNM96I8"
   },
   "outputs": [],
   "source": [
    "# One hot encoding\n",
    "labels_ohe  = utils.to_categorical(labels_df['breed'].values,  len(labels_df['breed'].unique()))"
   ]
  },
  {
   "cell_type": "code",
   "execution_count": 20,
   "metadata": {
    "colab": {
     "base_uri": "https://localhost:8080/",
     "height": 151
    },
    "colab_type": "code",
    "id": "cZSFQ_gPtK_W",
    "outputId": "00fee4ae-01f9-4700-fba0-bab1f63bbb61"
   },
   "outputs": [
    {
     "data": {
      "text/plain": [
       "array([0., 0., 0., 0., 0., 0., 0., 0., 0., 0., 0., 0., 0., 0., 0., 0., 0.,\n",
       "       0., 0., 1., 0., 0., 0., 0., 0., 0., 0., 0., 0., 0., 0., 0., 0., 0.,\n",
       "       0., 0., 0., 0., 0., 0., 0., 0., 0., 0., 0., 0., 0., 0., 0., 0., 0.,\n",
       "       0., 0., 0., 0., 0., 0., 0., 0., 0., 0., 0., 0., 0., 0., 0., 0., 0.,\n",
       "       0., 0., 0., 0., 0., 0., 0., 0., 0., 0., 0., 0., 0., 0., 0., 0., 0.,\n",
       "       0., 0., 0., 0., 0., 0., 0., 0., 0., 0., 0., 0., 0., 0., 0., 0., 0.,\n",
       "       0., 0., 0., 0., 0., 0., 0., 0., 0., 0., 0., 0., 0., 0., 0., 0., 0.,\n",
       "       0.], dtype=float32)"
      ]
     },
     "execution_count": 20,
     "metadata": {
      "tags": []
     },
     "output_type": "execute_result"
    }
   ],
   "source": [
    "labels_ohe[0]"
   ]
  },
  {
   "cell_type": "code",
   "execution_count": 21,
   "metadata": {
    "colab": {
     "base_uri": "https://localhost:8080/",
     "height": 34
    },
    "colab_type": "code",
    "id": "QJMpzXUuX9vt",
    "outputId": "4ef7a3e4-e1b0-4696-bd75-27e0eae8d2a6"
   },
   "outputs": [
    {
     "name": "stdout",
     "output_type": "stream",
     "text": [
      "Total Number of traning image:  10222 and total number of categoies:  120\n"
     ]
    }
   ],
   "source": [
    "print(\"Total Number of traning image: \",len(labels_ohe), \"and total number of categoies: \", len(labels_ohe[0]))"
   ]
  },
  {
   "cell_type": "markdown",
   "metadata": {
    "colab_type": "text",
    "id": "VWaJ9naXfoiU"
   },
   "source": [
    "## Preparing training dataset\n",
    "1. Write a code which reads each and every id from labels.csv file and loads the corresponding image (in RGB - 128, 128, 3) from the train folder. <br>\n",
    "2. Create 2 variables <br> \n",
    "     a.  x_train - Should have all the images of the dogs from train folder <br>\n",
    "     b.  y_train - Corresponding label of the dog <br>\n",
    "<u>Note:</u> The id of the dog images and its corresponding labels are available in labels.csv file   \n",
    "<u>Hint:</u> Watch the video shared on \"Preparing the training dataset\" if you face issue on creating the training dataset"
   ]
  },
  {
   "cell_type": "code",
   "execution_count": 0,
   "metadata": {
    "colab": {},
    "colab_type": "code",
    "id": "aC2f9ecR0XGR"
   },
   "outputs": [],
   "source": [
    "x_train_feature = []\n",
    "ImageCount = labels_df.shape[0]\n",
    "\n",
    "for i in range(ImageCount):\n",
    "  image = cv2.imread('/content/train/' + labels_df.id[i]+'.jpg')\n",
    "  image = cv2.resize(image, (128,128))\n",
    "  x_train_feature.append(image)"
   ]
  },
  {
   "cell_type": "code",
   "execution_count": 23,
   "metadata": {
    "colab": {
     "base_uri": "https://localhost:8080/",
     "height": 268
    },
    "colab_type": "code",
    "id": "EeeVEIz_zGql",
    "outputId": "d28373d2-df0d-4318-ae76-18eb32f82f95"
   },
   "outputs": [
    {
     "data": {
      "image/png": "[encoded data removed]",
      "text/plain": [
       "<Figure size 432x288 with 1 Axes>"
      ]
     },
     "metadata": {
      "needs_background": "light",
      "tags": []
     },
     "output_type": "display_data"
    }
   ],
   "source": [
    "import matplotlib.pyplot as plt\n",
    "plt.imshow(x_train_feature[10])\n",
    "plt.show()"
   ]
  },
  {
   "cell_type": "code",
   "execution_count": 24,
   "metadata": {
    "colab": {
     "base_uri": "https://localhost:8080/",
     "height": 34
    },
    "colab_type": "code",
    "id": "8y_glbXtAhOR",
    "outputId": "f80556e5-dedb-4d1f-f546-540d17fba967"
   },
   "outputs": [
    {
     "name": "stdout",
     "output_type": "stream",
     "text": [
      "Total number of Image present:  10222\n"
     ]
    }
   ],
   "source": [
    "print('Total number of Image present: ', len(x_train_feature))"
   ]
  },
  {
   "cell_type": "markdown",
   "metadata": {
    "colab_type": "text",
    "id": "6ioWDEgElBOs"
   },
   "source": [
    "Normalize the training data and convert into 4 dimensions so that it can be used as an input to conv layers in the model"
   ]
  },
  {
   "cell_type": "code",
   "execution_count": 0,
   "metadata": {
    "colab": {},
    "colab_type": "code",
    "id": "ARn76j3U1CDa"
   },
   "outputs": [],
   "source": [
    "x_train_feature = np.asarray(x_train_feature)\n",
    "x_train_feature = x_train_feature/255\n",
    "x_train_feature = x_train_feature.reshape(x_train_feature.shape[0], 128, 128, 3)"
   ]
  },
  {
   "cell_type": "code",
   "execution_count": 26,
   "metadata": {
    "colab": {
     "base_uri": "https://localhost:8080/",
     "height": 34
    },
    "colab_type": "code",
    "id": "FiIR_JjIBotZ",
    "outputId": "5ecddbfa-8e10-443d-99cd-74f914575e44"
   },
   "outputs": [
    {
     "data": {
      "text/plain": [
       "(10222, 128, 128, 3)"
      ]
     },
     "execution_count": 26,
     "metadata": {
      "tags": []
     },
     "output_type": "execute_result"
    }
   ],
   "source": [
    "x_train_feature.shape"
   ]
  },
  {
   "cell_type": "code",
   "execution_count": 27,
   "metadata": {
    "colab": {
     "base_uri": "https://localhost:8080/",
     "height": 840
    },
    "colab_type": "code",
    "id": "QGb2edueHPvP",
    "outputId": "bb9c0b20-4350-4147-9426-2793e2fdf285"
   },
   "outputs": [
    {
     "data": {
      "text/plain": [
       "array([[[0.27058824, 0.45490196, 0.67843137],\n",
       "        [0.14901961, 0.35686275, 0.53333333],\n",
       "        [0.4       , 0.65098039, 0.8       ],\n",
       "        ...,\n",
       "        [0.50980392, 0.8       , 0.92941176],\n",
       "        [0.33333333, 0.75686275, 0.8627451 ],\n",
       "        [0.23137255, 0.54117647, 0.66666667]],\n",
       "\n",
       "       [[0.16470588, 0.30196078, 0.4627451 ],\n",
       "        [0.55686275, 0.70588235, 0.84705882],\n",
       "        [0.46666667, 0.63529412, 0.77254902],\n",
       "        ...,\n",
       "        [0.31372549, 0.59607843, 0.76078431],\n",
       "        [0.39607843, 0.71764706, 0.85490196],\n",
       "        [0.29019608, 0.69411765, 0.83137255]],\n",
       "\n",
       "       [[0.25490196, 0.41960784, 0.59215686],\n",
       "        [0.22352941, 0.40392157, 0.57647059],\n",
       "        [0.25882353, 0.41960784, 0.6       ],\n",
       "        ...,\n",
       "        [0.14509804, 0.4745098 , 0.6745098 ],\n",
       "        [0.28627451, 0.56862745, 0.71764706],\n",
       "        [0.25098039, 0.65882353, 0.81176471]],\n",
       "\n",
       "       ...,\n",
       "\n",
       "       [[0.30196078, 0.46666667, 0.74509804],\n",
       "        [0.25882353, 0.4745098 , 0.72941176],\n",
       "        [0.25882353, 0.47843137, 0.71764706],\n",
       "        ...,\n",
       "        [0.2745098 , 0.35686275, 0.62352941],\n",
       "        [0.23137255, 0.34901961, 0.60392157],\n",
       "        [0.35686275, 0.51764706, 0.72156863]],\n",
       "\n",
       "       [[0.25490196, 0.4627451 , 0.7254902 ],\n",
       "        [0.28235294, 0.48627451, 0.74509804],\n",
       "        [0.29019608, 0.49019608, 0.73333333],\n",
       "        ...,\n",
       "        [0.21176471, 0.24705882, 0.51764706],\n",
       "        [0.29019608, 0.45490196, 0.6627451 ],\n",
       "        [0.4745098 , 0.6627451 , 0.8745098 ]],\n",
       "\n",
       "       [[0.24705882, 0.45490196, 0.71764706],\n",
       "        [0.28627451, 0.49019608, 0.74901961],\n",
       "        [0.29803922, 0.49803922, 0.74509804],\n",
       "        ...,\n",
       "        [0.19607843, 0.2       , 0.49803922],\n",
       "        [0.12156863, 0.24313725, 0.50196078],\n",
       "        [0.35294118, 0.56862745, 0.77647059]]])"
      ]
     },
     "execution_count": 27,
     "metadata": {
      "tags": []
     },
     "output_type": "execute_result"
    }
   ],
   "source": [
    "x_train_feature[0]"
   ]
  },
  {
   "cell_type": "markdown",
   "metadata": {
    "colab_type": "text",
    "id": "bdCXuAE11gZL"
   },
   "source": [
    "### Split the training and validation data from `x_train_data` and `y_train_data` obtained from above step"
   ]
  },
  {
   "cell_type": "code",
   "execution_count": 0,
   "metadata": {
    "colab": {},
    "colab_type": "code",
    "id": "kpWx-pgV96Jv"
   },
   "outputs": [],
   "source": [
    "X_train, X_val, Y_train, Y_val = train_test_split(x_train_feature, labels_ohe, test_size=0.2, random_state=10)"
   ]
  },
  {
   "cell_type": "code",
   "execution_count": 29,
   "metadata": {
    "colab": {
     "base_uri": "https://localhost:8080/",
     "height": 50
    },
    "colab_type": "code",
    "id": "2BouOhaYKIh5",
    "outputId": "5a122db0-054a-4acb-f5f6-89169ac1b00b"
   },
   "outputs": [
    {
     "name": "stdout",
     "output_type": "stream",
     "text": [
      "X_train shape:  8177 Y_train shape:  8177\n",
      "X_val shape:  2045 Y_val shape:  2045\n"
     ]
    }
   ],
   "source": [
    "print(\"X_train shape: \", X_train.shape[0], \"Y_train shape: \", Y_train.shape[0])\n",
    "print(\"X_val shape: \", X_val.shape[0], \"Y_val shape: \", Y_val.shape[0])"
   ]
  },
  {
   "cell_type": "markdown",
   "metadata": {
    "colab_type": "text",
    "id": "XkL-N1jDsU8m"
   },
   "source": [
    "### Loading the test data\n",
    "Read the id column from the samples_submission.csv and store it in test_img"
   ]
  },
  {
   "cell_type": "code",
   "execution_count": 30,
   "metadata": {
    "colab": {
     "base_uri": "https://localhost:8080/",
     "height": 218
    },
    "colab_type": "code",
    "id": "DnpXdpd9b3E7",
    "outputId": "ed102c31-b459-4171-a784-88482451c4cd"
   },
   "outputs": [
    {
     "data": {
      "text/plain": [
       "0        000621fb3cbb32d8935728e48679680e\n",
       "1        00102ee9d8eb90812350685311fe5890\n",
       "2        0012a730dfa437f5f3613fb75efcd4ce\n",
       "3        001510bc8570bbeee98c8d80c8a95ec1\n",
       "4        001a5f3114548acdefa3d4da05474c2e\n",
       "                       ...               \n",
       "10352    ffeda8623d4eee33c6d1156a2ecbfcf8\n",
       "10353    fff1ec9e6e413275984966f745a313b0\n",
       "10354    fff74b59b758bbbf13a5793182a9bbe4\n",
       "10355    fff7d50d848e8014ac1e9172dc6762a3\n",
       "10356    fffbff22c1f51e3dc80c4bf04089545b\n",
       "Name: id, Length: 10357, dtype: object"
      ]
     },
     "execution_count": 30,
     "metadata": {
      "tags": []
     },
     "output_type": "execute_result"
    }
   ],
   "source": [
    "test_img = pd.read_csv(\"sample_submission.csv\")['id']\n",
    "test_img"
   ]
  },
  {
   "cell_type": "markdown",
   "metadata": {
    "colab_type": "text",
    "id": "DEJqZIMbm0Jo"
   },
   "source": [
    "Run the below code to load the test image files in x_test_feature"
   ]
  },
  {
   "cell_type": "code",
   "execution_count": 31,
   "metadata": {
    "colab": {
     "base_uri": "https://localhost:8080/",
     "height": 34
    },
    "colab_type": "code",
    "id": "sxK-fh4irhfi",
    "outputId": "8d8d124f-0d56-4a12-ab1e-fadb5c926bdc"
   },
   "outputs": [
    {
     "name": "stderr",
     "output_type": "stream",
     "text": [
      "100%|██████████| 10357/10357 [00:28<00:00, 369.40it/s]\n"
     ]
    }
   ],
   "source": [
    "import cv2\n",
    "img_rows = 128\n",
    "img_cols = 128\n",
    "x_test_feature = []\n",
    "i = 0 # initialisation\n",
    "for f in tqdm(test_img.values): # f for format ,jpg\n",
    "    img = cv2.imread('./test/{}.jpg'.format(f))\n",
    "    img_resize = cv2.resize(img, (img_rows, img_cols)) \n",
    "    x_test_feature.append(img_resize)"
   ]
  },
  {
   "cell_type": "markdown",
   "metadata": {
    "colab_type": "text",
    "id": "9My6qSyDnE-_"
   },
   "source": [
    "Normalize the test data and convert it into 4 dimensions"
   ]
  },
  {
   "cell_type": "code",
   "execution_count": 32,
   "metadata": {
    "colab": {
     "base_uri": "https://localhost:8080/",
     "height": 840
    },
    "colab_type": "code",
    "id": "93n-IntMnJGI",
    "outputId": "7d254c9a-30ed-46c2-85e4-c5ee6d3dd987"
   },
   "outputs": [
    {
     "data": {
      "text/plain": [
       "array([[[0.2627451 , 0.43529412, 0.40784314],\n",
       "        [0.30588236, 0.38431373, 0.4117647 ],\n",
       "        [0.2627451 , 0.38039216, 0.36862746],\n",
       "        ...,\n",
       "        [0.03137255, 0.21960784, 0.14901961],\n",
       "        [0.03921569, 0.44705883, 0.39607844],\n",
       "        [0.04705882, 0.39607844, 0.34901962]],\n",
       "\n",
       "       [[0.1254902 , 0.36078432, 0.3372549 ],\n",
       "        [0.1254902 , 0.29411766, 0.30588236],\n",
       "        [0.24313726, 0.43137255, 0.43137255],\n",
       "        ...,\n",
       "        [0.01568628, 0.34509805, 0.3019608 ],\n",
       "        [0.00784314, 0.34901962, 0.27450982],\n",
       "        [0.01568628, 0.43529412, 0.3647059 ]],\n",
       "\n",
       "       [[0.12156863, 0.3137255 , 0.28627452],\n",
       "        [0.2784314 , 0.43137255, 0.42352942],\n",
       "        [0.31764707, 0.4627451 , 0.47843137],\n",
       "        ...,\n",
       "        [0.05098039, 0.35686275, 0.27058825],\n",
       "        [0.        , 0.27450982, 0.18431373],\n",
       "        [0.13333334, 0.58431375, 0.49019608]],\n",
       "\n",
       "       ...,\n",
       "\n",
       "       [[0.18431373, 0.34117648, 0.29803923],\n",
       "        [0.15294118, 0.16078432, 0.14509805],\n",
       "        [0.23921569, 0.38039216, 0.2784314 ],\n",
       "        ...,\n",
       "        [0.08627451, 0.16470589, 0.10588235],\n",
       "        [0.08627451, 0.18039216, 0.09019608],\n",
       "        [0.01960784, 0.12156863, 0.02745098]],\n",
       "\n",
       "       [[0.09019608, 0.17254902, 0.14509805],\n",
       "        [0.45490196, 0.45882353, 0.4627451 ],\n",
       "        [0.7372549 , 0.8       , 0.75686276],\n",
       "        ...,\n",
       "        [0.05882353, 0.11764706, 0.07450981],\n",
       "        [0.09803922, 0.18039216, 0.09411765],\n",
       "        [0.13725491, 0.23529412, 0.14117648]],\n",
       "\n",
       "       [[0.04313726, 0.1764706 , 0.05098039],\n",
       "        [0.09019608, 0.21960784, 0.13725491],\n",
       "        [0.00784314, 0.10980392, 0.01568628],\n",
       "        ...,\n",
       "        [0.00392157, 0.04313726, 0.01176471],\n",
       "        [0.13333334, 0.22745098, 0.14117648],\n",
       "        [0.07843138, 0.18431373, 0.09019608]]], dtype=float32)"
      ]
     },
     "execution_count": 32,
     "metadata": {
      "tags": []
     },
     "output_type": "execute_result"
    }
   ],
   "source": [
    "X_test = np.array(x_test_feature,dtype='float32')\n",
    "X_test/=255\n",
    "X_test[0]"
   ]
  },
  {
   "cell_type": "code",
   "execution_count": 33,
   "metadata": {
    "colab": {
     "base_uri": "https://localhost:8080/",
     "height": 34
    },
    "colab_type": "code",
    "id": "Zd5dbS4XCIh5",
    "outputId": "2e0fc64a-9c06-429e-ba26-0432699f94d2"
   },
   "outputs": [
    {
     "name": "stdout",
     "output_type": "stream",
     "text": [
      "X_test shape:  (10357, 128, 128, 3)\n"
     ]
    }
   ],
   "source": [
    "print(\"X_test shape: \",X_test.shape)"
   ]
  },
  {
   "cell_type": "markdown",
   "metadata": {
    "colab_type": "text",
    "id": "zKezNJVMsocP"
   },
   "source": [
    "### Build a basic conv neural network with 2 conv layers (kernel sizes - 5 and 3) add layers as mentioned below for classification.\n",
    "\n",
    "1. Add a Dense layer with 256 neurons with `relu` activation\n",
    "\n",
    "2. Add a Dense layer with 120 neurons as final layer (as there are 120 classes in the given dataset) with `softmax` activation for classifiaction. "
   ]
  },
  {
   "cell_type": "code",
   "execution_count": 0,
   "metadata": {
    "colab": {},
    "colab_type": "code",
    "id": "D2jxTY2S96J4"
   },
   "outputs": [],
   "source": [
    "keras.backend.clear_session()\n",
    "\n",
    "#Adding conv layer\n",
    "model = Sequential()\n",
    "\n",
    "#Add first CNN layer\n",
    "model.add(Conv2D(filters=32, kernel_size=(5,5), input_shape=(128,128,3), activation=\"relu\", kernel_initializer='he_normal'))\n",
    "model.add(BatchNormalization())\n",
    "model.add(MaxPool2D(pool_size = (2,2)))\n",
    "\n",
    "#Add 2nd CNN layer\n",
    "model.add(Conv2D(filters=64, kernel_size=(3,3), input_shape=(128,128,3), activation=\"relu\", kernel_initializer='he_normal'))\n",
    "model.add(BatchNormalization())\n",
    "model.add(MaxPool2D(pool_size = (2,2)))\n",
    "\n",
    "#Adding dense layer\n",
    "model.add(Flatten())\n",
    "model.add(Dense(units=256, activation='relu', kernel_initializer='he_normal'))\n",
    "model.add(Dense(units=120, activation='softmax'))\n"
   ]
  },
  {
   "cell_type": "markdown",
   "metadata": {
    "colab_type": "text",
    "id": "ui8EXw6_oqpR"
   },
   "source": [
    "### Use batch_size = 128 and epochs = 10 and execute the model"
   ]
  },
  {
   "cell_type": "code",
   "execution_count": 35,
   "metadata": {
    "colab": {
     "base_uri": "https://localhost:8080/",
     "height": 386
    },
    "colab_type": "code",
    "id": "IriIc37NozbK",
    "outputId": "e68cedd1-b5dc-4c5d-98a2-ddc1265b531c"
   },
   "outputs": [
    {
     "name": "stdout",
     "output_type": "stream",
     "text": [
      "Train on 8177 samples, validate on 2045 samples\n",
      "Epoch 1/10\n",
      "8177/8177 [==============================] - 6s 776us/sample - loss: 7.5660 - accuracy: 0.0109 - val_loss: 6.2602 - val_accuracy: 0.0078\n",
      "Epoch 2/10\n",
      "8177/8177 [==============================] - 4s 472us/sample - loss: 4.7687 - accuracy: 0.0142 - val_loss: 23.1187 - val_accuracy: 0.0068\n",
      "Epoch 3/10\n",
      "8177/8177 [==============================] - 4s 471us/sample - loss: 4.7232 - accuracy: 0.0193 - val_loss: 35.8088 - val_accuracy: 0.0098\n",
      "Epoch 4/10\n",
      "8177/8177 [==============================] - 4s 472us/sample - loss: 4.6874 - accuracy: 0.0236 - val_loss: 36.0640 - val_accuracy: 0.0112\n",
      "Epoch 5/10\n",
      "8177/8177 [==============================] - 4s 471us/sample - loss: 4.6296 - accuracy: 0.0342 - val_loss: 19.7693 - val_accuracy: 0.0152\n",
      "Epoch 6/10\n",
      "8177/8177 [==============================] - 4s 470us/sample - loss: 4.5451 - accuracy: 0.0432 - val_loss: 6.7113 - val_accuracy: 0.0220\n",
      "Epoch 7/10\n",
      "8177/8177 [==============================] - 4s 469us/sample - loss: 4.4649 - accuracy: 0.0549 - val_loss: 6.0406 - val_accuracy: 0.0186\n",
      "Epoch 8/10\n",
      "8177/8177 [==============================] - 4s 470us/sample - loss: 4.3609 - accuracy: 0.0674 - val_loss: 4.8084 - val_accuracy: 0.0259\n",
      "Epoch 9/10\n",
      "8177/8177 [==============================] - 4s 472us/sample - loss: 4.2704 - accuracy: 0.0780 - val_loss: 5.0448 - val_accuracy: 0.0249\n",
      "Epoch 10/10\n",
      "8177/8177 [==============================] - 4s 466us/sample - loss: 4.1607 - accuracy: 0.0929 - val_loss: 4.8424 - val_accuracy: 0.0196\n",
      "Model Train time: 41.0297908782959 seconds\n"
     ]
    }
   ],
   "source": [
    "BATCH_SIZE = 128\n",
    "EPOCH = 10\n",
    "\n",
    "#Compile model\n",
    "model.compile(optimizer='adam', loss='categorical_crossentropy',metrics=['accuracy'])\n",
    "\n",
    "#Train\n",
    "start_time = time.time()\n",
    "model.fit(X_train, Y_train, validation_data=(X_val, Y_val), epochs=EPOCH, batch_size=BATCH_SIZE, verbose=True)\n",
    "print(\"Model Train time: %s seconds\" % (time.time() - start_time))"
   ]
  },
  {
   "cell_type": "markdown",
   "metadata": {
    "colab_type": "text",
    "id": "Z8hWaKmjoz69"
   },
   "source": [
    "#The model accuracy is very poor !!!!"
   ]
  },
  {
   "cell_type": "markdown",
   "metadata": {
    "colab_type": "text",
    "id": "agJKkc6xtKiq"
   },
   "source": [
    "### Use Data Augmentation in the above model to see if the accuracy improves\n"
   ]
  },
  {
   "cell_type": "code",
   "execution_count": 0,
   "metadata": {
    "colab": {},
    "colab_type": "code",
    "id": "B3MWD6jmVvZP"
   },
   "outputs": [],
   "source": [
    "train_datagen = ImageDataGenerator(rotation_range=30, width_shift_range=0.2, height_shift_range=0.2, horizontal_flip=False, vertical_flip=True,\n",
    "                                   featurewise_center=True, featurewise_std_normalization=True)\n",
    "\n",
    "val_datagen = ImageDataGenerator()"
   ]
  },
  {
   "cell_type": "code",
   "execution_count": 0,
   "metadata": {
    "colab": {},
    "colab_type": "code",
    "id": "DpzvfVF18Pnd"
   },
   "outputs": [],
   "source": [
    "train_datagen.fit(X_train)\n",
    "val_datagen.fit(X_val)"
   ]
  },
  {
   "cell_type": "markdown",
   "metadata": {
    "colab_type": "text",
    "id": "6sssbaTfxlkk"
   },
   "source": [
    "### Using the above objects, create the image generators with variable names `train_generator` and `val_generator`\n",
    "\n",
    "You need to use train_datagen.flow() and val_datagen.flow()"
   ]
  },
  {
   "cell_type": "code",
   "execution_count": 0,
   "metadata": {
    "colab": {},
    "colab_type": "code",
    "id": "sehaRgT-96KQ"
   },
   "outputs": [],
   "source": [
    "train_generator = train_datagen.flow(X_train, Y_train)"
   ]
  },
  {
   "cell_type": "code",
   "execution_count": 0,
   "metadata": {
    "colab": {},
    "colab_type": "code",
    "id": "xreEbSrScK9s"
   },
   "outputs": [],
   "source": [
    "val_generator = val_datagen.flow(X_val, Y_val)"
   ]
  },
  {
   "cell_type": "markdown",
   "metadata": {
    "colab_type": "text",
    "id": "TVFQJZw3x4-C"
   },
   "source": [
    "### Fit the model using fit_generator() using `train_generator` and `val_generator` from the above step with 10 epochs"
   ]
  },
  {
   "cell_type": "code",
   "execution_count": 40,
   "metadata": {
    "colab": {
     "base_uri": "https://localhost:8080/",
     "height": 521
    },
    "colab_type": "code",
    "id": "J1K2MqHbuPUa",
    "outputId": "e555472c-117e-4ea6-bb75-352db13e1b7e"
   },
   "outputs": [
    {
     "name": "stdout",
     "output_type": "stream",
     "text": [
      "WARNING:tensorflow:sample_weight modes were coerced from\n",
      "  ...\n",
      "    to  \n",
      "  ['...']\n",
      "WARNING:tensorflow:sample_weight modes were coerced from\n",
      "  ...\n",
      "    to  \n",
      "  ['...']\n",
      "Train for 256 steps, validate for 64 steps\n",
      "Epoch 1/10\n",
      "256/256 [==============================] - 30s 117ms/step - loss: 4.8118 - accuracy: 0.0113 - val_loss: 4.7838 - val_accuracy: 0.0112\n",
      "Epoch 2/10\n",
      "256/256 [==============================] - 29s 114ms/step - loss: 4.7838 - accuracy: 0.0100 - val_loss: 4.7840 - val_accuracy: 0.0117\n",
      "Epoch 3/10\n",
      "256/256 [==============================] - 29s 115ms/step - loss: 4.7857 - accuracy: 0.0109 - val_loss: 4.7828 - val_accuracy: 0.0112\n",
      "Epoch 4/10\n",
      "256/256 [==============================] - 29s 113ms/step - loss: 4.7789 - accuracy: 0.0104 - val_loss: 4.7828 - val_accuracy: 0.0112\n",
      "Epoch 5/10\n",
      "256/256 [==============================] - 29s 113ms/step - loss: 4.7778 - accuracy: 0.0109 - val_loss: 4.7828 - val_accuracy: 0.0112\n",
      "Epoch 6/10\n",
      "256/256 [==============================] - 29s 113ms/step - loss: 4.7775 - accuracy: 0.0095 - val_loss: 4.7828 - val_accuracy: 0.0112\n",
      "Epoch 7/10\n",
      "256/256 [==============================] - 29s 114ms/step - loss: 4.7770 - accuracy: 0.0113 - val_loss: 4.7830 - val_accuracy: 0.0112\n",
      "Epoch 8/10\n",
      "256/256 [==============================] - 29s 114ms/step - loss: 4.7869 - accuracy: 0.0105 - val_loss: 4.7849 - val_accuracy: 0.0127\n",
      "Epoch 9/10\n",
      "256/256 [==============================] - 29s 114ms/step - loss: 4.7827 - accuracy: 0.0108 - val_loss: 4.9721 - val_accuracy: 0.0117\n",
      "Epoch 10/10\n",
      "256/256 [==============================] - 29s 113ms/step - loss: 4.7873 - accuracy: 0.0109 - val_loss: 4.7833 - val_accuracy: 0.0112\n",
      "Model Train time: 291.8550691604614 seconds\n"
     ]
    }
   ],
   "source": [
    "start_time = time.time()\n",
    "model.fit(train_generator, validation_data = val_generator, epochs = EPOCH, verbose=True)\n",
    "print(\"Model Train time: %s seconds\" % (time.time() - start_time))"
   ]
  },
  {
   "cell_type": "code",
   "execution_count": 41,
   "metadata": {
    "colab": {
     "base_uri": "https://localhost:8080/",
     "height": 118
    },
    "colab_type": "code",
    "id": "obnqXjPKcuE-",
    "outputId": "7b4d57c0-ae93-47e2-8bef-05cb93399799"
   },
   "outputs": [
    {
     "name": "stdout",
     "output_type": "stream",
     "text": [
      "WARNING:tensorflow:sample_weight modes were coerced from\n",
      "  ...\n",
      "    to  \n",
      "  ['...']\n",
      "64/64 [==============================] - 0s 6ms/step - loss: 4.7833 - accuracy: 0.0112\n"
     ]
    },
    {
     "data": {
      "text/plain": [
       "[4.783316016197205, 0.011246944]"
      ]
     },
     "execution_count": 41,
     "metadata": {
      "tags": []
     },
     "output_type": "execute_result"
    }
   ],
   "source": [
    "model.evaluate(val_generator)"
   ]
  },
  {
   "cell_type": "markdown",
   "metadata": {
    "colab_type": "text",
    "id": "Q2zmLztqo5DY"
   },
   "source": [
    "# Model accuracy is still poor!!!"
   ]
  },
  {
   "cell_type": "markdown",
   "metadata": {
    "colab_type": "text",
    "id": "rSTATrhsAo7L"
   },
   "source": [
    "## **Lets use Transfer Learning**\n",
    "\n",
    "Download the vgg wieght file from here : https://github.com/MinerKasch/applied_deep_learning/blob/master/vgg16_weights_tf_dim_ordering_tf_kernels_notop.h5"
   ]
  },
  {
   "cell_type": "markdown",
   "metadata": {
    "colab_type": "text",
    "id": "zy5JdbW6pIvD"
   },
   "source": [
    "**Use the below code to load VGG16 weights trained on ImageNet**"
   ]
  },
  {
   "cell_type": "code",
   "execution_count": 0,
   "metadata": {
    "colab": {},
    "colab_type": "code",
    "id": "Ye4cRSq0gAav"
   },
   "outputs": [],
   "source": [
    "from tensorflow.keras.applications.vgg16 import VGG16, preprocess_input\n",
    "base_model = tf.keras.applications.vgg16.VGG16(weights='imagenet', include_top=False, pooling='avg', input_tensor=Input(shape=(128,128,3)))"
   ]
  },
  {
   "cell_type": "markdown",
   "metadata": {
    "colab_type": "text",
    "id": "EItOlRBGpV_A"
   },
   "source": [
    "Print the summary of the base_model"
   ]
  },
  {
   "cell_type": "code",
   "execution_count": 43,
   "metadata": {
    "colab": {
     "base_uri": "https://localhost:8080/",
     "height": 823
    },
    "colab_type": "code",
    "id": "Ixu66zyIgwuM",
    "outputId": "2a823e89-2b77-4671-9563-d384d362eaa7"
   },
   "outputs": [
    {
     "name": "stdout",
     "output_type": "stream",
     "text": [
      "Model: \"vgg16\"\n",
      "_________________________________________________________________\n",
      "Layer (type)                 Output Shape              Param #   \n",
      "=================================================================\n",
      "input_1 (InputLayer)         [(None, 128, 128, 3)]     0         \n",
      "_________________________________________________________________\n",
      "block1_conv1 (Conv2D)        (None, 128, 128, 64)      1792      \n",
      "_________________________________________________________________\n",
      "block1_conv2 (Conv2D)        (None, 128, 128, 64)      36928     \n",
      "_________________________________________________________________\n",
      "block1_pool (MaxPooling2D)   (None, 64, 64, 64)        0         \n",
      "_________________________________________________________________\n",
      "block2_conv1 (Conv2D)        (None, 64, 64, 128)       73856     \n",
      "_________________________________________________________________\n",
      "block2_conv2 (Conv2D)        (None, 64, 64, 128)       147584    \n",
      "_________________________________________________________________\n",
      "block2_pool (MaxPooling2D)   (None, 32, 32, 128)       0         \n",
      "_________________________________________________________________\n",
      "block3_conv1 (Conv2D)        (None, 32, 32, 256)       295168    \n",
      "_________________________________________________________________\n",
      "block3_conv2 (Conv2D)        (None, 32, 32, 256)       590080    \n",
      "_________________________________________________________________\n",
      "block3_conv3 (Conv2D)        (None, 32, 32, 256)       590080    \n",
      "_________________________________________________________________\n",
      "block3_pool (MaxPooling2D)   (None, 16, 16, 256)       0         \n",
      "_________________________________________________________________\n",
      "block4_conv1 (Conv2D)        (None, 16, 16, 512)       1180160   \n",
      "_________________________________________________________________\n",
      "block4_conv2 (Conv2D)        (None, 16, 16, 512)       2359808   \n",
      "_________________________________________________________________\n",
      "block4_conv3 (Conv2D)        (None, 16, 16, 512)       2359808   \n",
      "_________________________________________________________________\n",
      "block4_pool (MaxPooling2D)   (None, 8, 8, 512)         0         \n",
      "_________________________________________________________________\n",
      "block5_conv1 (Conv2D)        (None, 8, 8, 512)         2359808   \n",
      "_________________________________________________________________\n",
      "block5_conv2 (Conv2D)        (None, 8, 8, 512)         2359808   \n",
      "_________________________________________________________________\n",
      "block5_conv3 (Conv2D)        (None, 8, 8, 512)         2359808   \n",
      "_________________________________________________________________\n",
      "block5_pool (MaxPooling2D)   (None, 4, 4, 512)         0         \n",
      "_________________________________________________________________\n",
      "global_average_pooling2d (Gl (None, 512)               0         \n",
      "=================================================================\n",
      "Total params: 14,714,688\n",
      "Trainable params: 14,714,688\n",
      "Non-trainable params: 0\n",
      "_________________________________________________________________\n"
     ]
    }
   ],
   "source": [
    "base_model.summary()"
   ]
  },
  {
   "cell_type": "markdown",
   "metadata": {
    "colab_type": "text",
    "id": "fHpeOyW0qauW"
   },
   "source": [
    "### Add the following classification layers to the imported VGG Model <br>\n",
    "1. Flatten Layer\n",
    "2. Dense layer with 1024 neurons with activation as Relu\n",
    "3. Dense layer with 256 neurons with activation as Relu\n",
    "4. Dense layer with 120 neurons with activation as Softmax"
   ]
  },
  {
   "cell_type": "code",
   "execution_count": 0,
   "metadata": {
    "colab": {},
    "colab_type": "code",
    "id": "0BpT4MLkqoaO"
   },
   "outputs": [],
   "source": [
    "model_1 = Sequential(name=\"VGG16_model1\")\n",
    "model_1.add(base_model)\n",
    "\n",
    "# Flatten layer\n",
    "model_1.add(Flatten())\n",
    "\n",
    "# 1st dense layer\n",
    "model_1.add(Dense(units=1024, activation='relu'))\n",
    "model_1.add(Dropout(0.3))\n",
    "\n",
    "#2nd dense layer\n",
    "model_1.add(Dense(units=256, activation='relu'))\n",
    "model_1.add(Dropout(0.3))\n",
    "\n",
    "#Output layer\n",
    "model_1.add(Dense(units=120, activation='softmax'))"
   ]
  },
  {
   "cell_type": "markdown",
   "metadata": {
    "colab_type": "text",
    "id": "LeQem0pHITIj"
   },
   "source": [
    "**Make all the layers in the base_model (VGG16) to be non-trainable**"
   ]
  },
  {
   "cell_type": "code",
   "execution_count": 45,
   "metadata": {
    "colab": {
     "base_uri": "https://localhost:8080/",
     "height": 353
    },
    "colab_type": "code",
    "id": "C7w9CSPvIRnX",
    "outputId": "81fcbaaf-416e-4a24-ba19-865634e0322f"
   },
   "outputs": [
    {
     "name": "stdout",
     "output_type": "stream",
     "text": [
      "False:\tinput_1\n",
      "False:\tblock1_conv1\n",
      "False:\tblock1_conv2\n",
      "False:\tblock1_pool\n",
      "False:\tblock2_conv1\n",
      "False:\tblock2_conv2\n",
      "False:\tblock2_pool\n",
      "False:\tblock3_conv1\n",
      "False:\tblock3_conv2\n",
      "False:\tblock3_conv3\n",
      "False:\tblock3_pool\n",
      "False:\tblock4_conv1\n",
      "False:\tblock4_conv2\n",
      "False:\tblock4_conv3\n",
      "False:\tblock4_pool\n",
      "False:\tblock5_conv1\n",
      "False:\tblock5_conv2\n",
      "False:\tblock5_conv3\n",
      "False:\tblock5_pool\n",
      "False:\tglobal_average_pooling2d\n"
     ]
    }
   ],
   "source": [
    "for layer in base_model.layers:\n",
    "  layer.trainable = False\n",
    "  \n",
    "for layer in base_model.layers:\n",
    "  print(\"{0}:\\t{1}\".format(layer.trainable, layer.name))"
   ]
  },
  {
   "cell_type": "markdown",
   "metadata": {
    "colab_type": "text",
    "id": "kj-BwqgfIkdv"
   },
   "source": [
    "### Fit and compile the model with batch_size = 128 and epochs = 10 and execute the model"
   ]
  },
  {
   "cell_type": "markdown",
   "metadata": {
    "colab_type": "text",
    "id": "YD5fAgVQIpKZ"
   },
   "source": [
    "Try to get training and validation accuracy to be more than 90%"
   ]
  },
  {
   "cell_type": "code",
   "execution_count": 46,
   "metadata": {
    "colab": {
     "base_uri": "https://localhost:8080/",
     "height": 521
    },
    "colab_type": "code",
    "id": "SZk2SWvjIoRP",
    "outputId": "0bd90fdf-d02d-4336-e6e4-92ed5cc75963"
   },
   "outputs": [
    {
     "name": "stdout",
     "output_type": "stream",
     "text": [
      "WARNING:tensorflow:sample_weight modes were coerced from\n",
      "  ...\n",
      "    to  \n",
      "  ['...']\n",
      "WARNING:tensorflow:sample_weight modes were coerced from\n",
      "  ...\n",
      "    to  \n",
      "  ['...']\n",
      "Train for 256 steps, validate for 64 steps\n",
      "Epoch 1/10\n",
      "256/256 [==============================] - 32s 126ms/step - loss: 4.8042 - accuracy: 0.0114 - val_loss: 4.7609 - val_accuracy: 0.0156\n",
      "Epoch 2/10\n",
      "256/256 [==============================] - 31s 120ms/step - loss: 4.7175 - accuracy: 0.0216 - val_loss: 4.7133 - val_accuracy: 0.0220\n",
      "Epoch 3/10\n",
      "256/256 [==============================] - 31s 121ms/step - loss: 4.5929 - accuracy: 0.0407 - val_loss: 4.6205 - val_accuracy: 0.0342\n",
      "Epoch 4/10\n",
      "256/256 [==============================] - 31s 120ms/step - loss: 4.3918 - accuracy: 0.0600 - val_loss: 4.5144 - val_accuracy: 0.0362\n",
      "Epoch 5/10\n",
      "256/256 [==============================] - 31s 120ms/step - loss: 4.1906 - accuracy: 0.0818 - val_loss: 4.4300 - val_accuracy: 0.0430\n",
      "Epoch 6/10\n",
      "256/256 [==============================] - 31s 120ms/step - loss: 4.0267 - accuracy: 0.1010 - val_loss: 4.3332 - val_accuracy: 0.0631\n",
      "Epoch 7/10\n",
      "256/256 [==============================] - 31s 120ms/step - loss: 3.8873 - accuracy: 0.1156 - val_loss: 4.2929 - val_accuracy: 0.0631\n",
      "Epoch 8/10\n",
      "256/256 [==============================] - 31s 120ms/step - loss: 3.7535 - accuracy: 0.1318 - val_loss: 4.2342 - val_accuracy: 0.0685\n",
      "Epoch 9/10\n",
      "256/256 [==============================] - 30s 119ms/step - loss: 3.6642 - accuracy: 0.1424 - val_loss: 4.1442 - val_accuracy: 0.0812\n",
      "Epoch 10/10\n",
      "256/256 [==============================] - 30s 119ms/step - loss: 3.5712 - accuracy: 0.1592 - val_loss: 4.1331 - val_accuracy: 0.0836\n",
      "VGG16 Model Train time: 308.80543875694275 seconds\n"
     ]
    }
   ],
   "source": [
    "model_1.compile(loss = 'categorical_crossentropy',optimizer = tf.keras.optimizers.Adam(lr=0.0001),metrics = ['accuracy'])\n",
    "\n",
    "# Train the model\n",
    "start_time = time.time()\n",
    "model_1.fit(train_generator, validation_data = val_generator, epochs = EPOCH, verbose=True,)\n",
    "print(\"VGG16 Model Train time: %s seconds\" % (time.time() - start_time))\n"
   ]
  },
  {
   "cell_type": "code",
   "execution_count": 49,
   "metadata": {
    "colab": {
     "base_uri": "https://localhost:8080/",
     "height": 118
    },
    "colab_type": "code",
    "id": "xa_b-uuXlszt",
    "outputId": "657f6d3c-fc11-40d3-84d6-8e33c2079e05"
   },
   "outputs": [
    {
     "name": "stdout",
     "output_type": "stream",
     "text": [
      "WARNING:tensorflow:sample_weight modes were coerced from\n",
      "  ...\n",
      "    to  \n",
      "  ['...']\n",
      "64/64 [==============================] - 2s 28ms/step - loss: 4.1331 - accuracy: 0.0836\n"
     ]
    },
    {
     "data": {
      "text/plain": [
       "[4.133126549422741, 0.08361858]"
      ]
     },
     "execution_count": 49,
     "metadata": {
      "tags": []
     },
     "output_type": "execute_result"
    }
   ],
   "source": [
    "model_1.evaluate(val_generator)"
   ]
  },
  {
   "cell_type": "markdown",
   "metadata": {
    "colab_type": "text",
    "id": "UJOxDV_UInVe"
   },
   "source": [
    "Use VGG16 model for predicting test image class label"
   ]
  },
  {
   "cell_type": "code",
   "execution_count": 50,
   "metadata": {
    "colab": {
     "base_uri": "https://localhost:8080/",
     "height": 34
    },
    "colab_type": "code",
    "id": "HCofs7iYGyqv",
    "outputId": "5ed84183-4275-40ca-be97-eafcc5e2e892"
   },
   "outputs": [
    {
     "name": "stdout",
     "output_type": "stream",
     "text": [
      "Test Image predicted class:  [ 94  94  52 ...  94 110  10]\n"
     ]
    }
   ],
   "source": [
    "Y_Pred = model_1.predict(X_test)\n",
    "Pred_class = np.argmax(Y_Pred, axis=1)\n",
    "print(\"Test Image predicted class: \",Pred_class)"
   ]
  },
  {
   "cell_type": "markdown",
   "metadata": {
    "colab_type": "text",
    "id": "wa7o-9Jaou_1"
   },
   "source": [
    "### **Use the below code to load ResNet50 weights trained on ImageNet**"
   ]
  },
  {
   "cell_type": "code",
   "execution_count": 0,
   "metadata": {
    "colab": {},
    "colab_type": "code",
    "id": "NUwFVHpxoxdD"
   },
   "outputs": [],
   "source": [
    "keras.backend.clear_session()\n",
    "\n",
    "#ResNet50\n",
    "base_model2 = tf.keras.applications.ResNet50(include_top=False, weights='imagenet', input_tensor=Input(shape=(128,128,3)), pooling='avg')"
   ]
  },
  {
   "cell_type": "code",
   "execution_count": 0,
   "metadata": {
    "colab": {},
    "colab_type": "code",
    "id": "90zmaljdQd29"
   },
   "outputs": [],
   "source": [
    "for layer in base_model2.layers:\n",
    "    layer.trainable = False\n",
    "    #print(\"{0}:\\t{1}\".format(layer.trainable, layer.name))"
   ]
  },
  {
   "cell_type": "code",
   "execution_count": 0,
   "metadata": {
    "colab": {},
    "colab_type": "code",
    "id": "qZzK0Asso7EE"
   },
   "outputs": [],
   "source": [
    "model_2 = Sequential(name=\"Model_2\")\n",
    "model_2.add(base_model2)\n",
    "\n",
    "# Flatten layer\n",
    "model_2.add(Flatten())\n",
    "\n",
    "# 1st dense layer\n",
    "model_2.add(Dense(units=1024, activation='relu'))\n",
    "model_2.add(Dropout(0.25))\n",
    "\n",
    "#2nd dense layer\n",
    "model_2.add(Dense(units=256, activation='relu'))\n",
    "model_2.add(Dropout(0.25))\n",
    "\n",
    "#Output layer\n",
    "model_2.add(Dense(units=120, activation='softmax'))"
   ]
  },
  {
   "cell_type": "code",
   "execution_count": 56,
   "metadata": {
    "colab": {
     "base_uri": "https://localhost:8080/",
     "height": 521
    },
    "colab_type": "code",
    "id": "5PmtkjLAoKfH",
    "outputId": "6adad0dc-3335-4930-f63f-980f6620eb36"
   },
   "outputs": [
    {
     "name": "stdout",
     "output_type": "stream",
     "text": [
      "WARNING:tensorflow:sample_weight modes were coerced from\n",
      "  ...\n",
      "    to  \n",
      "  ['...']\n",
      "WARNING:tensorflow:sample_weight modes were coerced from\n",
      "  ...\n",
      "    to  \n",
      "  ['...']\n",
      "Train for 256 steps, validate for 64 steps\n",
      "Epoch 1/10\n",
      "256/256 [==============================] - 37s 143ms/step - loss: 4.7679 - accuracy: 0.0231 - val_loss: 4.8231 - val_accuracy: 0.0049\n",
      "Epoch 2/10\n",
      "256/256 [==============================] - 33s 129ms/step - loss: 4.3775 - accuracy: 0.0712 - val_loss: 4.8328 - val_accuracy: 0.0078\n",
      "Epoch 3/10\n",
      "256/256 [==============================] - 33s 127ms/step - loss: 3.9466 - accuracy: 0.1306 - val_loss: 4.8380 - val_accuracy: 0.0112\n",
      "Epoch 4/10\n",
      "256/256 [==============================] - 32s 126ms/step - loss: 3.6136 - accuracy: 0.1754 - val_loss: 4.8497 - val_accuracy: 0.0093\n",
      "Epoch 5/10\n",
      "256/256 [==============================] - 32s 127ms/step - loss: 3.3911 - accuracy: 0.2125 - val_loss: 4.8583 - val_accuracy: 0.0103\n",
      "Epoch 6/10\n",
      "256/256 [==============================] - 32s 127ms/step - loss: 3.2356 - accuracy: 0.2408 - val_loss: 4.8673 - val_accuracy: 0.0103\n",
      "Epoch 7/10\n",
      "256/256 [==============================] - 32s 125ms/step - loss: 3.0973 - accuracy: 0.2601 - val_loss: 4.8832 - val_accuracy: 0.0098\n",
      "Epoch 8/10\n",
      "256/256 [==============================] - 32s 125ms/step - loss: 2.9756 - accuracy: 0.2854 - val_loss: 4.8985 - val_accuracy: 0.0093\n",
      "Epoch 9/10\n",
      "256/256 [==============================] - 32s 124ms/step - loss: 2.8985 - accuracy: 0.2911 - val_loss: 4.9195 - val_accuracy: 0.0098\n",
      "Epoch 10/10\n",
      "256/256 [==============================] - 32s 125ms/step - loss: 2.8393 - accuracy: 0.3013 - val_loss: 4.9289 - val_accuracy: 0.0098\n",
      "ResNet50 Model Train time: 326.873083114624 seconds\n"
     ]
    }
   ],
   "source": [
    "model_2.compile(loss='categorical_crossentropy', optimizer=tf.keras.optimizers.Adam(lr=0.0001),metrics = ['accuracy'])\n",
    "\n",
    "# Train the model\n",
    "start_time = time.time()\n",
    "model_2.fit(train_generator, validation_data=val_generator, epochs=10, verbose=True)\n",
    "print(\"ResNet50 Model Train time: %s seconds\" % (time.time() - start_time))"
   ]
  },
  {
   "cell_type": "code",
   "execution_count": 57,
   "metadata": {
    "colab": {
     "base_uri": "https://localhost:8080/",
     "height": 118
    },
    "colab_type": "code",
    "id": "vZgHjqJsxnU1",
    "outputId": "da87607f-6fe4-4165-a918-5f6c4d50809b"
   },
   "outputs": [
    {
     "name": "stdout",
     "output_type": "stream",
     "text": [
      "WARNING:tensorflow:sample_weight modes were coerced from\n",
      "  ...\n",
      "    to  \n",
      "  ['...']\n",
      "64/64 [==============================] - 2s 29ms/step - loss: 4.9289 - accuracy: 0.0098\n"
     ]
    },
    {
     "data": {
      "text/plain": [
       "[4.92891027033329, 0.009779952]"
      ]
     },
     "execution_count": 57,
     "metadata": {
      "tags": []
     },
     "output_type": "execute_result"
    }
   ],
   "source": [
    "model_2.evaluate(val_generator)"
   ]
  },
  {
   "cell_type": "markdown",
   "metadata": {
    "colab_type": "text",
    "id": "zM72ra0XI4so"
   },
   "source": [
    "Use ResNet50 model for predicting class test image"
   ]
  },
  {
   "cell_type": "code",
   "execution_count": 58,
   "metadata": {
    "colab": {
     "base_uri": "https://localhost:8080/",
     "height": 34
    },
    "colab_type": "code",
    "id": "XQ6y8b_gq1qK",
    "outputId": "e7bc81ae-d3dd-46a4-d6df-ead84dd13394"
   },
   "outputs": [
    {
     "name": "stdout",
     "output_type": "stream",
     "text": [
      "Test Image predicted class:  [88 88 88 ... 88 88 88]\n"
     ]
    }
   ],
   "source": [
    "Y_Pred = model_2.predict(X_test)\n",
    "Pred_class = np.argmax(Y_Pred, axis=1)\n",
    "print(\"Test Image predicted class: \",Pred_class)"
   ]
  },
  {
   "cell_type": "markdown",
   "metadata": {
    "colab_type": "text",
    "id": "BhJo2khyOXt8"
   },
   "source": [
    "### **Use the below code to load InceptionV3 weights trained on ImageNet**"
   ]
  },
  {
   "cell_type": "code",
   "execution_count": 0,
   "metadata": {
    "colab": {},
    "colab_type": "code",
    "id": "f-PghrC3OdjS"
   },
   "outputs": [],
   "source": [
    "keras.backend.clear_session()\n",
    "\n",
    "#InceptionV3\n",
    "base_model3 = tf.keras.applications.InceptionV3(include_top=False, weights='imagenet', input_tensor=Input(shape=(128,128,3)), pooling='avg')"
   ]
  },
  {
   "cell_type": "code",
   "execution_count": 0,
   "metadata": {
    "colab": {},
    "colab_type": "code",
    "id": "aE5DWfZQ5i0-"
   },
   "outputs": [],
   "source": [
    "#base_model3.summary()"
   ]
  },
  {
   "cell_type": "code",
   "execution_count": 0,
   "metadata": {
    "colab": {},
    "colab_type": "code",
    "id": "sMuMz7tnQIQ6"
   },
   "outputs": [],
   "source": [
    "for layer in base_model3.layers:\n",
    "    layer.trainable = False\n",
    "    #print(\"{0}:\\t{1}\".format(layer.trainable, layer.name))"
   ]
  },
  {
   "cell_type": "code",
   "execution_count": 0,
   "metadata": {
    "colab": {},
    "colab_type": "code",
    "id": "OVrDRFMtPWPA"
   },
   "outputs": [],
   "source": [
    "model_3 = Sequential(name=\"Model_3\")\n",
    "model_3.add(base_model3)\n",
    "\n",
    "# Flatten layer\n",
    "model_3.add(Flatten())\n",
    "\n",
    "# 1st dense layer\n",
    "model_3.add(Dense(units=1024, activation='relu'))\n",
    "model_3.add(Dropout(0.25))\n",
    "\n",
    "#2nd dense layer\n",
    "model_3.add(Dense(units=256, activation='relu'))\n",
    "model_3.add(Dropout(0.25))\n",
    "\n",
    "#Output layer\n",
    "model_3.add(Dense(units=120, activation='softmax'))"
   ]
  },
  {
   "cell_type": "code",
   "execution_count": 63,
   "metadata": {
    "colab": {
     "base_uri": "https://localhost:8080/",
     "height": 521
    },
    "colab_type": "code",
    "id": "xU3N6zYFQB9k",
    "outputId": "71b72ca0-dd97-414c-fd59-d85cb0fcb15a"
   },
   "outputs": [
    {
     "name": "stdout",
     "output_type": "stream",
     "text": [
      "WARNING:tensorflow:sample_weight modes were coerced from\n",
      "  ...\n",
      "    to  \n",
      "  ['...']\n",
      "WARNING:tensorflow:sample_weight modes were coerced from\n",
      "  ...\n",
      "    to  \n",
      "  ['...']\n",
      "Train for 256 steps, validate for 64 steps\n",
      "Epoch 1/10\n",
      "256/256 [==============================] - 38s 148ms/step - loss: 4.8324 - accuracy: 0.0092 - val_loss: 4.8257 - val_accuracy: 0.0186\n",
      "Epoch 2/10\n",
      "256/256 [==============================] - 32s 126ms/step - loss: 4.7864 - accuracy: 0.0135 - val_loss: 4.7483 - val_accuracy: 0.0284\n",
      "Epoch 3/10\n",
      "256/256 [==============================] - 32s 125ms/step - loss: 4.7772 - accuracy: 0.0126 - val_loss: 4.7950 - val_accuracy: 0.0381\n",
      "Epoch 4/10\n",
      "256/256 [==============================] - 32s 126ms/step - loss: 4.7626 - accuracy: 0.0160 - val_loss: 4.6622 - val_accuracy: 0.0582\n",
      "Epoch 5/10\n",
      "256/256 [==============================] - 32s 123ms/step - loss: 4.7458 - accuracy: 0.0186 - val_loss: 4.7631 - val_accuracy: 0.0567\n",
      "Epoch 6/10\n",
      "256/256 [==============================] - 32s 123ms/step - loss: 4.7118 - accuracy: 0.0257 - val_loss: 4.6470 - val_accuracy: 0.0763\n",
      "Epoch 7/10\n",
      "256/256 [==============================] - 32s 124ms/step - loss: 4.6753 - accuracy: 0.0305 - val_loss: 4.8066 - val_accuracy: 0.0773\n",
      "Epoch 8/10\n",
      "256/256 [==============================] - 32s 123ms/step - loss: 4.6382 - accuracy: 0.0360 - val_loss: 4.9617 - val_accuracy: 0.0900\n",
      "Epoch 9/10\n",
      "256/256 [==============================] - 31s 123ms/step - loss: 4.5924 - accuracy: 0.0411 - val_loss: 4.9787 - val_accuracy: 0.0885\n",
      "Epoch 10/10\n",
      "256/256 [==============================] - 32s 125ms/step - loss: 4.5551 - accuracy: 0.0440 - val_loss: 5.0241 - val_accuracy: 0.1027\n",
      "ResNet152 Model Train time: 324.2054648399353 seconds\n"
     ]
    }
   ],
   "source": [
    "model_3.compile(loss = 'categorical_crossentropy', optimizer = tf.keras.optimizers.Adam(lr=0.0001), metrics = ['accuracy'])\n",
    "\n",
    "# Train the model\n",
    "start_time = time.time()\n",
    "model_3.fit(train_generator, validation_data=val_generator, epochs=10,verbose=True)\n",
    "print(\"ResNet152 Model Train time: %s seconds\" % (time.time() - start_time))"
   ]
  },
  {
   "cell_type": "code",
   "execution_count": 64,
   "metadata": {
    "colab": {
     "base_uri": "https://localhost:8080/",
     "height": 118
    },
    "colab_type": "code",
    "id": "UZP-b6p8x0EJ",
    "outputId": "be4354db-0adc-4481-b3bd-8d11b90fa85a"
   },
   "outputs": [
    {
     "name": "stdout",
     "output_type": "stream",
     "text": [
      "WARNING:tensorflow:sample_weight modes were coerced from\n",
      "  ...\n",
      "    to  \n",
      "  ['...']\n",
      "64/64 [==============================] - 2s 29ms/step - loss: 5.0241 - accuracy: 0.1027\n"
     ]
    },
    {
     "data": {
      "text/plain": [
       "[5.024134896695614, 0.10268949]"
      ]
     },
     "execution_count": 64,
     "metadata": {
      "tags": []
     },
     "output_type": "execute_result"
    }
   ],
   "source": [
    "model_3.evaluate(val_generator)"
   ]
  },
  {
   "cell_type": "markdown",
   "metadata": {
    "colab_type": "text",
    "id": "6Czf87i1Q4zV"
   },
   "source": [
    "Use InceptionV3 model for predicting class test image"
   ]
  },
  {
   "cell_type": "code",
   "execution_count": 65,
   "metadata": {
    "colab": {
     "base_uri": "https://localhost:8080/",
     "height": 34
    },
    "colab_type": "code",
    "id": "L_tg5r5vQxqr",
    "outputId": "ff086f5b-33a0-48f7-8764-ffba4ce37799"
   },
   "outputs": [
    {
     "name": "stdout",
     "output_type": "stream",
     "text": [
      "Test Image predicted class:  [ 61  94 100 ...  83 100  70]\n"
     ]
    }
   ],
   "source": [
    "Y_Pred = model_3.predict(X_test)\n",
    "Pred_class = np.argmax(Y_Pred, axis=1)\n",
    "print(\"Test Image predicted class: \",Pred_class)"
   ]
  },
  {
   "cell_type": "code",
   "execution_count": 0,
   "metadata": {
    "colab": {},
    "colab_type": "code",
    "id": "8ydAaFSszGOv"
   },
   "outputs": [],
   "source": []
  },
  {
   "cell_type": "markdown",
   "metadata": {},
   "source": [
    "# Conclusion:\n",
    "\n",
    "Tried multiple combination combination but model accuracy is pretty bad.\n",
    "\n",
    "Model 1: Basic CNN model with 2 conv layer and 2 dense layer. Model accuracy is bad.\n",
    "\n",
    "Model 2: Applied Data Augmentation and build above model again but Data Augmentation did not helped in increasing model accuracy.\n",
    "\n",
    "Model 3: Used tranfer learning VGG16 pretrained weights, with extra dense layer. Small increase in accuracy is seen. If all layers are trainable then accuracy is very bad. Better accuracy is seen is all layers are not trainable.\n",
    "\n",
    "Model 4: Used transfer learning ResNet50 pretrained weights, with extra dense layer. Again small increase in accuracy is seen. If all layers are trainable then accuracy is very bad. Better accuracy is seen is all layers are not trainable.\n",
    "\n",
    "Model 5: Used tranfer learning InceptionV3 pretrained weights, with extra dense layer. Again small increase in accuracy is seen, but accuracy did not crossed 90%. If all layers are trainable then accuracy is very bad. Better accuracy is seen is all layers are not trainable.\n",
    "\n",
    "Tried to build all model with different image size but google colab is crashing frequently. I am able run only with (128,128) image size. I also tried to take less number of image and then increase image size. Reduced number of image = 4000 and image size changed to (224, 224) and (300, 300) in both case accuracy is not increasing. Hence final model I build using all 10k images of size (128,128).\n",
    "\n",
    "Also tried to set different data agumentation parameter, but that did not resulted in accuracy increase.\n",
    "\n",
    "Number of epoch=100 and 10 both have similar accuracy."
   ]
  },
  {
   "cell_type": "code",
   "execution_count": null,
   "metadata": {},
   "outputs": [],
   "source": []
  }
 ],
 "metadata": {
  "accelerator": "GPU",
  "colab": {
   "collapsed_sections": [],
   "machine_shape": "hm",
   "name": "CV_Project2_Dog_Breed_Classification_Solution.ipynb",
   "provenance": []
  },
  "kernelspec": {
   "display_name": "Python 3",
   "language": "python",
   "name": "python3"
  },
  "language_info": {
   "codemirror_mode": {
    "name": "ipython",
    "version": 3
   },
   "file_extension": ".py",
   "mimetype": "text/x-python",
   "name": "python",
   "nbconvert_exporter": "python",
   "pygments_lexer": "ipython3",
   "version": "3.7.3"
  }
 },
 "nbformat": 4,
 "nbformat_minor": 1
}
